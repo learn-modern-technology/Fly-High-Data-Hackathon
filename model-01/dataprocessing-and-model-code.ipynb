{
 "cells": [
  {
   "cell_type": "code",
   "execution_count": 1,
   "id": "0aa4996c",
   "metadata": {},
   "outputs": [],
   "source": [
    "# For numpy Arrays \n",
    "import numpy as np\n",
    "\n",
    "# For using pandas DataFrame\n",
    "import pandas as pd\n",
    "\n",
    "# For plotting charts\n",
    "import matplotlib.pyplot as plt\n",
    "import seaborn as sns\n",
    "\n",
    "# For plotting in the current window\n",
    "%matplotlib inline"
   ]
  },
  {
   "cell_type": "code",
   "execution_count": 2,
   "id": "78f56067",
   "metadata": {},
   "outputs": [],
   "source": [
    "pd.set_option('display.max_columns', None)\n",
    "pd.set_option('display.max_rows', None)"
   ]
  },
  {
   "cell_type": "code",
   "execution_count": 8,
   "id": "f1eecc7d",
   "metadata": {},
   "outputs": [],
   "source": [
    "df = pd.read_csv('train.csv')"
   ]
  },
  {
   "cell_type": "code",
   "execution_count": 9,
   "id": "5d41625c",
   "metadata": {},
   "outputs": [
    {
     "data": {
      "text/html": [
       "<div>\n",
       "<style scoped>\n",
       "    .dataframe tbody tr th:only-of-type {\n",
       "        vertical-align: middle;\n",
       "    }\n",
       "\n",
       "    .dataframe tbody tr th {\n",
       "        vertical-align: top;\n",
       "    }\n",
       "\n",
       "    .dataframe thead th {\n",
       "        text-align: right;\n",
       "    }\n",
       "</style>\n",
       "<table border=\"1\" class=\"dataframe\">\n",
       "  <thead>\n",
       "    <tr style=\"text-align: right;\">\n",
       "      <th></th>\n",
       "      <th>Flight_ID</th>\n",
       "      <th>Airline</th>\n",
       "      <th>Departure_City</th>\n",
       "      <th>Arrival_City</th>\n",
       "      <th>Distance</th>\n",
       "      <th>Departure_Time</th>\n",
       "      <th>Arrival_Time</th>\n",
       "      <th>Duration</th>\n",
       "      <th>Aircraft_Type</th>\n",
       "      <th>Number_of_Stops</th>\n",
       "      <th>Day_of_Week</th>\n",
       "      <th>Month_of_Travel</th>\n",
       "      <th>Holiday_Season</th>\n",
       "      <th>Demand</th>\n",
       "      <th>Weather_Conditions</th>\n",
       "      <th>Passenger_Count</th>\n",
       "      <th>Promotion_Type</th>\n",
       "      <th>Fuel_Price</th>\n",
       "      <th>Flight_Price</th>\n",
       "    </tr>\n",
       "  </thead>\n",
       "  <tbody>\n",
       "    <tr>\n",
       "      <th>0</th>\n",
       "      <td>F1</td>\n",
       "      <td>Airline B</td>\n",
       "      <td>NaN</td>\n",
       "      <td>Greenshire</td>\n",
       "      <td>8286.0</td>\n",
       "      <td>8:23</td>\n",
       "      <td>20:19</td>\n",
       "      <td>11.94</td>\n",
       "      <td>Boeing 787</td>\n",
       "      <td>0</td>\n",
       "      <td>Wednesday</td>\n",
       "      <td>December</td>\n",
       "      <td>Summer</td>\n",
       "      <td>Low</td>\n",
       "      <td>Rain</td>\n",
       "      <td>240</td>\n",
       "      <td>Special Offer</td>\n",
       "      <td>0.91</td>\n",
       "      <td>643.93</td>\n",
       "    </tr>\n",
       "    <tr>\n",
       "      <th>1</th>\n",
       "      <td>F2</td>\n",
       "      <td>Airline C</td>\n",
       "      <td>Leonardland</td>\n",
       "      <td>New Stephen</td>\n",
       "      <td>2942.0</td>\n",
       "      <td>20:28</td>\n",
       "      <td>1:45</td>\n",
       "      <td>5.29</td>\n",
       "      <td>Airbus A320</td>\n",
       "      <td>0</td>\n",
       "      <td>Wednesday</td>\n",
       "      <td>March</td>\n",
       "      <td>Spring</td>\n",
       "      <td>Low</td>\n",
       "      <td>Rain</td>\n",
       "      <td>107</td>\n",
       "      <td>None</td>\n",
       "      <td>1.08</td>\n",
       "      <td>423.13</td>\n",
       "    </tr>\n",
       "    <tr>\n",
       "      <th>2</th>\n",
       "      <td>F3</td>\n",
       "      <td>Airline B</td>\n",
       "      <td>South Dylanville</td>\n",
       "      <td>Port Ambermouth</td>\n",
       "      <td>2468.0</td>\n",
       "      <td>11:30</td>\n",
       "      <td>15:54</td>\n",
       "      <td>4.41</td>\n",
       "      <td>Boeing 787</td>\n",
       "      <td>1</td>\n",
       "      <td>Sunday</td>\n",
       "      <td>September</td>\n",
       "      <td>Summer</td>\n",
       "      <td>High</td>\n",
       "      <td>Cloudy</td>\n",
       "      <td>131</td>\n",
       "      <td>NaN</td>\n",
       "      <td>0.52</td>\n",
       "      <td>442.17</td>\n",
       "    </tr>\n",
       "    <tr>\n",
       "      <th>3</th>\n",
       "      <td>F4</td>\n",
       "      <td>NaN</td>\n",
       "      <td>Blakefort</td>\n",
       "      <td>Crosbyberg</td>\n",
       "      <td>3145.0</td>\n",
       "      <td>20:24</td>\n",
       "      <td>1:21</td>\n",
       "      <td>4.96</td>\n",
       "      <td>Boeing 787</td>\n",
       "      <td>0</td>\n",
       "      <td>Sunday</td>\n",
       "      <td>February</td>\n",
       "      <td>Fall</td>\n",
       "      <td>Low</td>\n",
       "      <td>Cloudy</td>\n",
       "      <td>170</td>\n",
       "      <td>Discount</td>\n",
       "      <td>0.71</td>\n",
       "      <td>394.42</td>\n",
       "    </tr>\n",
       "    <tr>\n",
       "      <th>4</th>\n",
       "      <td>F5</td>\n",
       "      <td>Airline B</td>\n",
       "      <td>Michaelport</td>\n",
       "      <td>Onealborough</td>\n",
       "      <td>5558.0</td>\n",
       "      <td>21:59</td>\n",
       "      <td>6:04</td>\n",
       "      <td>8.09</td>\n",
       "      <td>Boeing 737</td>\n",
       "      <td>1</td>\n",
       "      <td>Thursday</td>\n",
       "      <td>January</td>\n",
       "      <td>None</td>\n",
       "      <td>NaN</td>\n",
       "      <td>Clear</td>\n",
       "      <td>181</td>\n",
       "      <td>None</td>\n",
       "      <td>1.09</td>\n",
       "      <td>804.35</td>\n",
       "    </tr>\n",
       "  </tbody>\n",
       "</table>\n",
       "</div>"
      ],
      "text/plain": [
       "  Flight_ID    Airline    Departure_City     Arrival_City  Distance  \\\n",
       "0        F1  Airline B               NaN       Greenshire    8286.0   \n",
       "1        F2  Airline C       Leonardland      New Stephen    2942.0   \n",
       "2        F3  Airline B  South Dylanville  Port Ambermouth    2468.0   \n",
       "3        F4        NaN         Blakefort       Crosbyberg    3145.0   \n",
       "4        F5  Airline B       Michaelport     Onealborough    5558.0   \n",
       "\n",
       "  Departure_Time Arrival_Time  Duration Aircraft_Type  Number_of_Stops  \\\n",
       "0           8:23        20:19     11.94    Boeing 787                0   \n",
       "1          20:28         1:45      5.29   Airbus A320                0   \n",
       "2          11:30        15:54      4.41    Boeing 787                1   \n",
       "3          20:24         1:21      4.96    Boeing 787                0   \n",
       "4          21:59         6:04      8.09    Boeing 737                1   \n",
       "\n",
       "  Day_of_Week Month_of_Travel Holiday_Season Demand Weather_Conditions  \\\n",
       "0   Wednesday        December         Summer    Low               Rain   \n",
       "1   Wednesday           March         Spring    Low               Rain   \n",
       "2      Sunday       September         Summer   High             Cloudy   \n",
       "3      Sunday        February           Fall    Low             Cloudy   \n",
       "4    Thursday         January           None    NaN              Clear   \n",
       "\n",
       "   Passenger_Count Promotion_Type  Fuel_Price  Flight_Price  \n",
       "0              240  Special Offer        0.91        643.93  \n",
       "1              107           None        1.08        423.13  \n",
       "2              131            NaN        0.52        442.17  \n",
       "3              170       Discount        0.71        394.42  \n",
       "4              181           None        1.09        804.35  "
      ]
     },
     "execution_count": 9,
     "metadata": {},
     "output_type": "execute_result"
    }
   ],
   "source": [
    "df.head()"
   ]
  },
  {
   "cell_type": "code",
   "execution_count": 10,
   "id": "c8f93af4",
   "metadata": {},
   "outputs": [
    {
     "data": {
      "text/html": [
       "<div>\n",
       "<style scoped>\n",
       "    .dataframe tbody tr th:only-of-type {\n",
       "        vertical-align: middle;\n",
       "    }\n",
       "\n",
       "    .dataframe tbody tr th {\n",
       "        vertical-align: top;\n",
       "    }\n",
       "\n",
       "    .dataframe thead th {\n",
       "        text-align: right;\n",
       "    }\n",
       "</style>\n",
       "<table border=\"1\" class=\"dataframe\">\n",
       "  <thead>\n",
       "    <tr style=\"text-align: right;\">\n",
       "      <th></th>\n",
       "      <th>Flight_ID</th>\n",
       "      <th>Airline</th>\n",
       "      <th>Departure_City</th>\n",
       "      <th>Arrival_City</th>\n",
       "      <th>Distance</th>\n",
       "      <th>Departure_Time</th>\n",
       "      <th>Arrival_Time</th>\n",
       "      <th>Duration</th>\n",
       "      <th>Aircraft_Type</th>\n",
       "      <th>Number_of_Stops</th>\n",
       "      <th>Day_of_Week</th>\n",
       "      <th>Month_of_Travel</th>\n",
       "      <th>Holiday_Season</th>\n",
       "      <th>Demand</th>\n",
       "      <th>Weather_Conditions</th>\n",
       "      <th>Passenger_Count</th>\n",
       "      <th>Promotion_Type</th>\n",
       "      <th>Fuel_Price</th>\n",
       "      <th>Flight_Price</th>\n",
       "    </tr>\n",
       "  </thead>\n",
       "  <tbody>\n",
       "    <tr>\n",
       "      <th>44995</th>\n",
       "      <td>F44996</td>\n",
       "      <td>Airline B</td>\n",
       "      <td>Port Donaldland</td>\n",
       "      <td>Maryshire</td>\n",
       "      <td>3884.0</td>\n",
       "      <td>21:49</td>\n",
       "      <td>3:31</td>\n",
       "      <td>5.70</td>\n",
       "      <td>Boeing 787</td>\n",
       "      <td>1</td>\n",
       "      <td>Sunday</td>\n",
       "      <td>May</td>\n",
       "      <td>Fall</td>\n",
       "      <td>Low</td>\n",
       "      <td>Clear</td>\n",
       "      <td>263</td>\n",
       "      <td>Discount</td>\n",
       "      <td>0.69</td>\n",
       "      <td>417.18</td>\n",
       "    </tr>\n",
       "    <tr>\n",
       "      <th>44996</th>\n",
       "      <td>F44997</td>\n",
       "      <td>Airline A</td>\n",
       "      <td>East Patriciafurt</td>\n",
       "      <td>East Vickiberg</td>\n",
       "      <td>9191.0</td>\n",
       "      <td>22:50</td>\n",
       "      <td>11:48</td>\n",
       "      <td>12.97</td>\n",
       "      <td>Airbus A320</td>\n",
       "      <td>1</td>\n",
       "      <td>Friday</td>\n",
       "      <td>December</td>\n",
       "      <td>Fall</td>\n",
       "      <td>Low</td>\n",
       "      <td>Snow</td>\n",
       "      <td>168</td>\n",
       "      <td>Discount</td>\n",
       "      <td>0.74</td>\n",
       "      <td>687.03</td>\n",
       "    </tr>\n",
       "    <tr>\n",
       "      <th>44997</th>\n",
       "      <td>F44998</td>\n",
       "      <td>Airline C</td>\n",
       "      <td>Monicaton</td>\n",
       "      <td>West Johnburgh</td>\n",
       "      <td>6757.0</td>\n",
       "      <td>2:33</td>\n",
       "      <td>11:21</td>\n",
       "      <td>8.81</td>\n",
       "      <td>Boeing 777</td>\n",
       "      <td>1</td>\n",
       "      <td>Wednesday</td>\n",
       "      <td>October</td>\n",
       "      <td>Fall</td>\n",
       "      <td>Low</td>\n",
       "      <td>Snow</td>\n",
       "      <td>244</td>\n",
       "      <td>Special Offer</td>\n",
       "      <td>0.83</td>\n",
       "      <td>547.39</td>\n",
       "    </tr>\n",
       "    <tr>\n",
       "      <th>44998</th>\n",
       "      <td>F44999</td>\n",
       "      <td>Airline B</td>\n",
       "      <td>Turnerburgh</td>\n",
       "      <td>Gabrielville</td>\n",
       "      <td>3587.0</td>\n",
       "      <td>13:25</td>\n",
       "      <td>19:37</td>\n",
       "      <td>6.21</td>\n",
       "      <td>Boeing 737</td>\n",
       "      <td>0</td>\n",
       "      <td>Saturday</td>\n",
       "      <td>June</td>\n",
       "      <td>None</td>\n",
       "      <td>Medium</td>\n",
       "      <td>Cloudy</td>\n",
       "      <td>121</td>\n",
       "      <td>Special Offer</td>\n",
       "      <td>0.60</td>\n",
       "      <td>487.67</td>\n",
       "    </tr>\n",
       "    <tr>\n",
       "      <th>44999</th>\n",
       "      <td>F45000</td>\n",
       "      <td>Airline B</td>\n",
       "      <td>Harrisport</td>\n",
       "      <td>Chelsealand</td>\n",
       "      <td>4890.0</td>\n",
       "      <td>3:37</td>\n",
       "      <td>11:19</td>\n",
       "      <td>7.70</td>\n",
       "      <td>Airbus A320</td>\n",
       "      <td>0</td>\n",
       "      <td>Monday</td>\n",
       "      <td>December</td>\n",
       "      <td>Winter</td>\n",
       "      <td>Low</td>\n",
       "      <td>Rain</td>\n",
       "      <td>91</td>\n",
       "      <td>None</td>\n",
       "      <td>0.95</td>\n",
       "      <td>532.92</td>\n",
       "    </tr>\n",
       "  </tbody>\n",
       "</table>\n",
       "</div>"
      ],
      "text/plain": [
       "      Flight_ID    Airline     Departure_City    Arrival_City  Distance  \\\n",
       "44995    F44996  Airline B    Port Donaldland       Maryshire    3884.0   \n",
       "44996    F44997  Airline A  East Patriciafurt  East Vickiberg    9191.0   \n",
       "44997    F44998  Airline C          Monicaton  West Johnburgh    6757.0   \n",
       "44998    F44999  Airline B        Turnerburgh    Gabrielville    3587.0   \n",
       "44999    F45000  Airline B         Harrisport     Chelsealand    4890.0   \n",
       "\n",
       "      Departure_Time Arrival_Time  Duration Aircraft_Type  Number_of_Stops  \\\n",
       "44995          21:49         3:31      5.70    Boeing 787                1   \n",
       "44996          22:50        11:48     12.97   Airbus A320                1   \n",
       "44997           2:33        11:21      8.81    Boeing 777                1   \n",
       "44998          13:25        19:37      6.21    Boeing 737                0   \n",
       "44999           3:37        11:19      7.70   Airbus A320                0   \n",
       "\n",
       "      Day_of_Week Month_of_Travel Holiday_Season  Demand Weather_Conditions  \\\n",
       "44995      Sunday             May           Fall     Low              Clear   \n",
       "44996      Friday        December           Fall     Low               Snow   \n",
       "44997   Wednesday         October           Fall     Low               Snow   \n",
       "44998    Saturday            June           None  Medium             Cloudy   \n",
       "44999      Monday        December         Winter     Low               Rain   \n",
       "\n",
       "       Passenger_Count Promotion_Type  Fuel_Price  Flight_Price  \n",
       "44995              263       Discount        0.69        417.18  \n",
       "44996              168       Discount        0.74        687.03  \n",
       "44997              244  Special Offer        0.83        547.39  \n",
       "44998              121  Special Offer        0.60        487.67  \n",
       "44999               91           None        0.95        532.92  "
      ]
     },
     "execution_count": 10,
     "metadata": {},
     "output_type": "execute_result"
    }
   ],
   "source": [
    "df.tail()"
   ]
  },
  {
   "cell_type": "code",
   "execution_count": 11,
   "id": "be8bca71",
   "metadata": {},
   "outputs": [
    {
     "name": "stdout",
     "output_type": "stream",
     "text": [
      "<class 'pandas.core.frame.DataFrame'>\n",
      "RangeIndex: 45000 entries, 0 to 44999\n",
      "Data columns (total 19 columns):\n",
      " #   Column              Non-Null Count  Dtype  \n",
      "---  ------              --------------  -----  \n",
      " 0   Flight_ID           45000 non-null  object \n",
      " 1   Airline             41427 non-null  object \n",
      " 2   Departure_City      44660 non-null  object \n",
      " 3   Arrival_City        44814 non-null  object \n",
      " 4   Distance            44909 non-null  float64\n",
      " 5   Departure_Time      45000 non-null  object \n",
      " 6   Arrival_Time        45000 non-null  object \n",
      " 7   Duration            45000 non-null  float64\n",
      " 8   Aircraft_Type       44957 non-null  object \n",
      " 9   Number_of_Stops     45000 non-null  int64  \n",
      " 10  Day_of_Week         44775 non-null  object \n",
      " 11  Month_of_Travel     44733 non-null  object \n",
      " 12  Holiday_Season      45000 non-null  object \n",
      " 13  Demand              44683 non-null  object \n",
      " 14  Weather_Conditions  44698 non-null  object \n",
      " 15  Passenger_Count     45000 non-null  int64  \n",
      " 16  Promotion_Type      44597 non-null  object \n",
      " 17  Fuel_Price          44910 non-null  float64\n",
      " 18  Flight_Price        45000 non-null  float64\n",
      "dtypes: float64(4), int64(2), object(13)\n",
      "memory usage: 6.5+ MB\n"
     ]
    }
   ],
   "source": [
    "df.info()"
   ]
  },
  {
   "cell_type": "markdown",
   "id": "7b622fe0",
   "metadata": {},
   "source": [
    "### I. Exploratory Detail Analysis"
   ]
  },
  {
   "cell_type": "code",
   "execution_count": 12,
   "id": "8d1abe97",
   "metadata": {},
   "outputs": [
    {
     "data": {
      "text/plain": [
       "Flight_ID                0\n",
       "Airline               3573\n",
       "Departure_City         340\n",
       "Arrival_City           186\n",
       "Distance                91\n",
       "Departure_Time           0\n",
       "Arrival_Time             0\n",
       "Duration                 0\n",
       "Aircraft_Type           43\n",
       "Number_of_Stops          0\n",
       "Day_of_Week            225\n",
       "Month_of_Travel        267\n",
       "Holiday_Season           0\n",
       "Demand                 317\n",
       "Weather_Conditions     302\n",
       "Passenger_Count          0\n",
       "Promotion_Type         403\n",
       "Fuel_Price              90\n",
       "Flight_Price             0\n",
       "dtype: int64"
      ]
     },
     "execution_count": 12,
     "metadata": {},
     "output_type": "execute_result"
    }
   ],
   "source": [
    "df.isnull().sum()"
   ]
  },
  {
   "cell_type": "code",
   "execution_count": 13,
   "id": "c6c86107",
   "metadata": {},
   "outputs": [
    {
     "data": {
      "text/plain": [
       "Flight_ID             0.000000\n",
       "Airline               7.940000\n",
       "Departure_City        0.755556\n",
       "Arrival_City          0.413333\n",
       "Distance              0.202222\n",
       "Departure_Time        0.000000\n",
       "Arrival_Time          0.000000\n",
       "Duration              0.000000\n",
       "Aircraft_Type         0.095556\n",
       "Number_of_Stops       0.000000\n",
       "Day_of_Week           0.500000\n",
       "Month_of_Travel       0.593333\n",
       "Holiday_Season        0.000000\n",
       "Demand                0.704444\n",
       "Weather_Conditions    0.671111\n",
       "Passenger_Count       0.000000\n",
       "Promotion_Type        0.895556\n",
       "Fuel_Price            0.200000\n",
       "Flight_Price          0.000000\n",
       "dtype: float64"
      ]
     },
     "execution_count": 13,
     "metadata": {},
     "output_type": "execute_result"
    }
   ],
   "source": [
    "(df.isnull().sum()/df.shape[0]) * 100"
   ]
  },
  {
   "cell_type": "code",
   "execution_count": 14,
   "id": "2ee558d3",
   "metadata": {},
   "outputs": [
    {
     "data": {
      "text/html": [
       "<div>\n",
       "<style scoped>\n",
       "    .dataframe tbody tr th:only-of-type {\n",
       "        vertical-align: middle;\n",
       "    }\n",
       "\n",
       "    .dataframe tbody tr th {\n",
       "        vertical-align: top;\n",
       "    }\n",
       "\n",
       "    .dataframe thead th {\n",
       "        text-align: right;\n",
       "    }\n",
       "</style>\n",
       "<table border=\"1\" class=\"dataframe\">\n",
       "  <thead>\n",
       "    <tr style=\"text-align: right;\">\n",
       "      <th></th>\n",
       "      <th>Distance</th>\n",
       "      <th>Duration</th>\n",
       "      <th>Number_of_Stops</th>\n",
       "      <th>Passenger_Count</th>\n",
       "      <th>Fuel_Price</th>\n",
       "      <th>Flight_Price</th>\n",
       "    </tr>\n",
       "  </thead>\n",
       "  <tbody>\n",
       "    <tr>\n",
       "      <th>count</th>\n",
       "      <td>44909.000000</td>\n",
       "      <td>45000.000000</td>\n",
       "      <td>45000.000000</td>\n",
       "      <td>45000.000000</td>\n",
       "      <td>44910.000000</td>\n",
       "      <td>45000.000000</td>\n",
       "    </tr>\n",
       "    <tr>\n",
       "      <th>mean</th>\n",
       "      <td>5482.238727</td>\n",
       "      <td>7.852555</td>\n",
       "      <td>0.665667</td>\n",
       "      <td>174.928822</td>\n",
       "      <td>0.850192</td>\n",
       "      <td>574.606270</td>\n",
       "    </tr>\n",
       "    <tr>\n",
       "      <th>std</th>\n",
       "      <td>2594.847860</td>\n",
       "      <td>3.292880</td>\n",
       "      <td>0.750578</td>\n",
       "      <td>72.372980</td>\n",
       "      <td>0.201736</td>\n",
       "      <td>160.239344</td>\n",
       "    </tr>\n",
       "    <tr>\n",
       "      <th>min</th>\n",
       "      <td>1000.000000</td>\n",
       "      <td>1.280000</td>\n",
       "      <td>0.000000</td>\n",
       "      <td>50.000000</td>\n",
       "      <td>0.500000</td>\n",
       "      <td>173.350000</td>\n",
       "    </tr>\n",
       "    <tr>\n",
       "      <th>25%</th>\n",
       "      <td>3230.000000</td>\n",
       "      <td>5.040000</td>\n",
       "      <td>0.000000</td>\n",
       "      <td>112.000000</td>\n",
       "      <td>0.680000</td>\n",
       "      <td>455.297500</td>\n",
       "    </tr>\n",
       "    <tr>\n",
       "      <th>50%</th>\n",
       "      <td>5476.000000</td>\n",
       "      <td>7.840000</td>\n",
       "      <td>1.000000</td>\n",
       "      <td>175.000000</td>\n",
       "      <td>0.850000</td>\n",
       "      <td>565.750000</td>\n",
       "    </tr>\n",
       "    <tr>\n",
       "      <th>75%</th>\n",
       "      <td>7725.000000</td>\n",
       "      <td>10.650000</td>\n",
       "      <td>1.000000</td>\n",
       "      <td>238.000000</td>\n",
       "      <td>1.020000</td>\n",
       "      <td>679.692500</td>\n",
       "    </tr>\n",
       "    <tr>\n",
       "      <th>max</th>\n",
       "      <td>10000.000000</td>\n",
       "      <td>14.450000</td>\n",
       "      <td>3.000000</td>\n",
       "      <td>300.000000</td>\n",
       "      <td>1.200000</td>\n",
       "      <td>1261.640000</td>\n",
       "    </tr>\n",
       "  </tbody>\n",
       "</table>\n",
       "</div>"
      ],
      "text/plain": [
       "           Distance      Duration  Number_of_Stops  Passenger_Count  \\\n",
       "count  44909.000000  45000.000000     45000.000000     45000.000000   \n",
       "mean    5482.238727      7.852555         0.665667       174.928822   \n",
       "std     2594.847860      3.292880         0.750578        72.372980   \n",
       "min     1000.000000      1.280000         0.000000        50.000000   \n",
       "25%     3230.000000      5.040000         0.000000       112.000000   \n",
       "50%     5476.000000      7.840000         1.000000       175.000000   \n",
       "75%     7725.000000     10.650000         1.000000       238.000000   \n",
       "max    10000.000000     14.450000         3.000000       300.000000   \n",
       "\n",
       "         Fuel_Price  Flight_Price  \n",
       "count  44910.000000  45000.000000  \n",
       "mean       0.850192    574.606270  \n",
       "std        0.201736    160.239344  \n",
       "min        0.500000    173.350000  \n",
       "25%        0.680000    455.297500  \n",
       "50%        0.850000    565.750000  \n",
       "75%        1.020000    679.692500  \n",
       "max        1.200000   1261.640000  "
      ]
     },
     "execution_count": 14,
     "metadata": {},
     "output_type": "execute_result"
    }
   ],
   "source": [
    "df.describe()"
   ]
  },
  {
   "cell_type": "code",
   "execution_count": 15,
   "id": "ac982ead",
   "metadata": {},
   "outputs": [
    {
     "name": "stdout",
     "output_type": "stream",
     "text": [
      "['Airline B' 'Airline C' nan 'Airline A']\n"
     ]
    },
    {
     "data": {
      "text/plain": [
       "Airline A    13863\n",
       "Airline C    13809\n",
       "Airline B    13755\n",
       "Name: Airline, dtype: int64"
      ]
     },
     "execution_count": 15,
     "metadata": {},
     "output_type": "execute_result"
    }
   ],
   "source": [
    "print(df['Airline'].unique())\n",
    "df['Airline'].value_counts()"
   ]
  },
  {
   "cell_type": "code",
   "execution_count": 16,
   "id": "fb24fa5c",
   "metadata": {},
   "outputs": [
    {
     "data": {
      "text/plain": [
       "array([nan, 'Leonardland', 'South Dylanville', ..., 'Reillybury',\n",
       "       'Lake Katiestad', 'East Patriciafurt'], dtype=object)"
      ]
     },
     "execution_count": 16,
     "metadata": {},
     "output_type": "execute_result"
    }
   ],
   "source": [
    "df['Departure_City'].unique()"
   ]
  },
  {
   "cell_type": "code",
   "execution_count": 17,
   "id": "b7b7d5f9",
   "metadata": {},
   "outputs": [
    {
     "data": {
      "text/plain": [
       "array(['Greenshire', 'New Stephen', 'Port Ambermouth', ...,\n",
       "       'South Susanville', 'East Vickiberg', 'Gabrielville'], dtype=object)"
      ]
     },
     "execution_count": 17,
     "metadata": {},
     "output_type": "execute_result"
    }
   ],
   "source": [
    "df['Arrival_City'].unique()"
   ]
  },
  {
   "cell_type": "code",
   "execution_count": 18,
   "id": "54e47142",
   "metadata": {},
   "outputs": [
    {
     "data": {
      "text/plain": [
       "array([8286., 2942., 2468., ..., 6392., 3868., 6443.])"
      ]
     },
     "execution_count": 18,
     "metadata": {},
     "output_type": "execute_result"
    }
   ],
   "source": [
    "df['Distance'].unique()"
   ]
  },
  {
   "cell_type": "code",
   "execution_count": 19,
   "id": "18bc838c",
   "metadata": {},
   "outputs": [
    {
     "data": {
      "text/plain": [
       "array(['Boeing 787', 'Airbus A320', 'Boeing 737', nan, 'Boeing 777',\n",
       "       'Airbus A380'], dtype=object)"
      ]
     },
     "execution_count": 19,
     "metadata": {},
     "output_type": "execute_result"
    }
   ],
   "source": [
    "df['Aircraft_Type'].unique()"
   ]
  },
  {
   "cell_type": "code",
   "execution_count": 20,
   "id": "0f6eb4da",
   "metadata": {},
   "outputs": [
    {
     "data": {
      "text/plain": [
       "array(['Wednesday', 'Sunday', 'Thursday', 'Tuesday', 'Friday', 'Monday',\n",
       "       'Saturday', nan], dtype=object)"
      ]
     },
     "execution_count": 20,
     "metadata": {},
     "output_type": "execute_result"
    }
   ],
   "source": [
    "df['Day_of_Week'].unique()"
   ]
  },
  {
   "cell_type": "code",
   "execution_count": 21,
   "id": "123a1792",
   "metadata": {},
   "outputs": [
    {
     "data": {
      "text/plain": [
       "array(['December', 'March', 'September', 'February', 'January', 'May',\n",
       "       'June', 'July', 'August', nan, 'April', 'October', 'November'],\n",
       "      dtype=object)"
      ]
     },
     "execution_count": 21,
     "metadata": {},
     "output_type": "execute_result"
    }
   ],
   "source": [
    "df['Month_of_Travel'].unique()"
   ]
  },
  {
   "cell_type": "code",
   "execution_count": 22,
   "id": "52073d7e",
   "metadata": {},
   "outputs": [
    {
     "name": "stdout",
     "output_type": "stream",
     "text": [
      "Low       28946\n",
      "Medium     8954\n",
      "High       6783\n",
      "Name: Demand, dtype: int64\n"
     ]
    },
    {
     "data": {
      "text/plain": [
       "array(['Low', 'High', nan, 'Medium'], dtype=object)"
      ]
     },
     "execution_count": 22,
     "metadata": {},
     "output_type": "execute_result"
    }
   ],
   "source": [
    "print(df['Demand'].value_counts())\n",
    "df['Demand'].unique()"
   ]
  },
  {
   "cell_type": "code",
   "execution_count": 23,
   "id": "63a607c0",
   "metadata": {},
   "outputs": [
    {
     "name": "stdout",
     "output_type": "stream",
     "text": [
      "Cloudy    11409\n",
      "Snow      11148\n",
      "Rain      11093\n",
      "Clear     11048\n",
      "Name: Weather_Conditions, dtype: int64\n"
     ]
    },
    {
     "data": {
      "text/plain": [
       "array(['Rain', 'Cloudy', 'Clear', 'Snow', nan], dtype=object)"
      ]
     },
     "execution_count": 23,
     "metadata": {},
     "output_type": "execute_result"
    }
   ],
   "source": [
    "print(df['Weather_Conditions'].value_counts())\n",
    "df['Weather_Conditions'].unique()"
   ]
  },
  {
   "cell_type": "code",
   "execution_count": 24,
   "id": "c68f851b",
   "metadata": {},
   "outputs": [
    {
     "name": "stdout",
     "output_type": "stream",
     "text": [
      "Special Offer    14896\n",
      "Discount         14889\n",
      "None             14812\n",
      "Name: Promotion_Type, dtype: int64\n"
     ]
    },
    {
     "data": {
      "text/plain": [
       "array(['Special Offer', 'None', nan, 'Discount'], dtype=object)"
      ]
     },
     "execution_count": 24,
     "metadata": {},
     "output_type": "execute_result"
    }
   ],
   "source": [
    "print(df['Promotion_Type'].value_counts())\n",
    "df['Promotion_Type'].unique()"
   ]
  },
  {
   "cell_type": "code",
   "execution_count": 25,
   "id": "9aa43f3e",
   "metadata": {},
   "outputs": [
    {
     "data": {
      "text/plain": [
       "array(['Summer', 'Spring', 'Fall', 'None', 'Winter'], dtype=object)"
      ]
     },
     "execution_count": 25,
     "metadata": {},
     "output_type": "execute_result"
    }
   ],
   "source": [
    "df['Holiday_Season'].unique()"
   ]
  },
  {
   "cell_type": "code",
   "execution_count": 26,
   "id": "167da809",
   "metadata": {},
   "outputs": [
    {
     "name": "stdout",
     "output_type": "stream",
     "text": [
      "[0.91 1.08 0.52 0.71 1.09 1.15 1.03 1.14 0.85 0.8  1.11 0.54 1.02 1.07\n",
      " 0.97 0.9  0.82 1.06 0.76 0.83 0.93 0.59 0.98 0.81 0.65 0.57 0.94 0.61\n",
      " 0.96 1.1  1.12 0.92 1.18 0.77 1.05 0.73 1.16 0.63 0.66 0.69 0.62 0.79\n",
      " 0.6  0.51 0.74 1.2  0.89 0.75 0.53 1.01 1.19 0.72 0.88 0.7  1.04 0.87\n",
      " 0.64 0.86 0.78 1.   0.99 0.84 0.68 1.13 0.55 0.95 0.67 0.56 1.17 0.58\n",
      " 0.5   nan]\n"
     ]
    }
   ],
   "source": [
    "print(df['Fuel_Price'].unique())"
   ]
  },
  {
   "cell_type": "code",
   "execution_count": 27,
   "id": "65150b5b",
   "metadata": {},
   "outputs": [
    {
     "data": {
      "text/plain": [
       "array([0, 1, 3], dtype=int64)"
      ]
     },
     "execution_count": 27,
     "metadata": {},
     "output_type": "execute_result"
    }
   ],
   "source": [
    "df['Number_of_Stops'].unique()"
   ]
  },
  {
   "cell_type": "markdown",
   "id": "e5c6094a",
   "metadata": {},
   "source": [
    "### II. Treating Missing Values"
   ]
  },
  {
   "cell_type": "code",
   "execution_count": 28,
   "id": "5c4b5c5c",
   "metadata": {},
   "outputs": [
    {
     "data": {
      "text/plain": [
       "Flight_ID                0\n",
       "Airline               3573\n",
       "Departure_City         340\n",
       "Arrival_City           186\n",
       "Distance                91\n",
       "Departure_Time           0\n",
       "Arrival_Time             0\n",
       "Duration                 0\n",
       "Aircraft_Type           43\n",
       "Number_of_Stops          0\n",
       "Day_of_Week            225\n",
       "Month_of_Travel        267\n",
       "Holiday_Season           0\n",
       "Demand                 317\n",
       "Weather_Conditions     302\n",
       "Passenger_Count          0\n",
       "Promotion_Type         403\n",
       "Fuel_Price              90\n",
       "Flight_Price             0\n",
       "dtype: int64"
      ]
     },
     "execution_count": 28,
     "metadata": {},
     "output_type": "execute_result"
    }
   ],
   "source": [
    "df.isnull().sum()"
   ]
  },
  {
   "cell_type": "code",
   "execution_count": 29,
   "id": "41ce50ea",
   "metadata": {},
   "outputs": [],
   "source": [
    "df['Airline'] = df['Airline'].fillna('Unknown')\n",
    "df['Aircraft_Type'] = df['Aircraft_Type'].fillna('Unknown')\n",
    "df['Day_of_Week'] = df['Day_of_Week'].fillna(df['Day_of_Week'].mode()[0])\n",
    "df['Month_of_Travel'] = df['Month_of_Travel'].fillna(df['Month_of_Travel'].mode()[0])\n",
    "df['Demand'] = df['Demand'].fillna(df['Demand'].mode()[0])\n",
    "df['Weather_Conditions'] = df['Weather_Conditions'].fillna(df['Weather_Conditions'].mode()[0])\n",
    "df['Promotion_Type'] = df['Promotion_Type'].fillna(df['Promotion_Type'].mode()[0])"
   ]
  },
  {
   "cell_type": "code",
   "execution_count": 30,
   "id": "f1a6763b",
   "metadata": {},
   "outputs": [],
   "source": [
    "df['Departure_City'] = df['Departure_City'].fillna('Unknown')\n",
    "df['Arrival_City'] = df['Arrival_City'].fillna('Unknown')"
   ]
  },
  {
   "cell_type": "code",
   "execution_count": 31,
   "id": "623a0d6e",
   "metadata": {},
   "outputs": [],
   "source": [
    "df['Distance'] = df['Distance'].fillna(round(df['Distance'].median(),1))\n",
    "df['Fuel_Price'] = df['Fuel_Price'].fillna(round(df['Fuel_Price'].median(),2))"
   ]
  },
  {
   "cell_type": "code",
   "execution_count": 32,
   "id": "d330ff68",
   "metadata": {},
   "outputs": [
    {
     "data": {
      "text/plain": [
       "Flight_ID             0\n",
       "Airline               0\n",
       "Departure_City        0\n",
       "Arrival_City          0\n",
       "Distance              0\n",
       "Departure_Time        0\n",
       "Arrival_Time          0\n",
       "Duration              0\n",
       "Aircraft_Type         0\n",
       "Number_of_Stops       0\n",
       "Day_of_Week           0\n",
       "Month_of_Travel       0\n",
       "Holiday_Season        0\n",
       "Demand                0\n",
       "Weather_Conditions    0\n",
       "Passenger_Count       0\n",
       "Promotion_Type        0\n",
       "Fuel_Price            0\n",
       "Flight_Price          0\n",
       "dtype: int64"
      ]
     },
     "execution_count": 32,
     "metadata": {},
     "output_type": "execute_result"
    }
   ],
   "source": [
    "df.isnull().sum()"
   ]
  },
  {
   "cell_type": "markdown",
   "id": "d6fd5e20",
   "metadata": {},
   "source": [
    "### III. Encoding Features"
   ]
  },
  {
   "cell_type": "code",
   "execution_count": 33,
   "id": "a0b54967",
   "metadata": {},
   "outputs": [],
   "source": [
    "Airline_mapper = { 'Airline A': 0, 'Airline B': 1, 'Airline C': 2, 'Unknown': 3}\n",
    "\n",
    "AircraftType_mapper = { 'Boeing 787': 0, 'Airbus A320': 1, 'Boeing 737': 2, 'Boeing 777': 3, 'Airbus A380': 4, 'Unknown': 5}\n",
    "\n",
    "DayOfWeek_mapper = {'Wednesday':3, 'Sunday': 0, 'Thursday': 4, 'Tuesday': 2, 'Friday': 5, 'Monday': 1, 'Saturday': 6}\n",
    "\n",
    "MonthOfTravel_mapper = {'December': 11, 'March': 2, 'September': 8, 'February': 1, 'January': 0, 'May': 4, 'June': 5, \n",
    "                        'July': 6, 'August': 7, 'April': 3, 'October': 9, 'November': 10}\n",
    "\n",
    "Demand_mapper = {'Low': 0, 'High': 2, 'Medium': 1}\n",
    "\n",
    "Weather_mapper = {'Rain': 0, 'Cloudy': 1, 'Clear': 2, 'Snow': 3}\n",
    "\n",
    "PromotionType_mapper = {'Special Offer': 0, 'None': 2, 'Discount': 1}\n",
    "\n",
    "HolidaySeason_mapper = {'Summer': 1, 'Spring' :4, 'Fall': 2, 'None': 0, 'Winter': 3}"
   ]
  },
  {
   "cell_type": "code",
   "execution_count": 34,
   "id": "dae293b0",
   "metadata": {},
   "outputs": [],
   "source": [
    "df['Promotion_Type'] = df['Promotion_Type'].replace(PromotionType_mapper)\n",
    "df['Weather_Conditions'] = df['Weather_Conditions'].replace(Weather_mapper)\n",
    "df['Demand'] = df['Demand'].replace(Demand_mapper)\n",
    "df['Month_of_Travel'] = df['Month_of_Travel'].replace(MonthOfTravel_mapper)\n",
    "df['Day_of_Week'] = df['Day_of_Week'].replace(DayOfWeek_mapper)\n",
    "df['Aircraft_Type'] = df['Aircraft_Type'].replace(AircraftType_mapper)\n",
    "df['Airline'] = df['Airline'].replace(Airline_mapper)\n",
    "df['Holiday_Season'] = df['Holiday_Season'].replace(HolidaySeason_mapper)"
   ]
  },
  {
   "cell_type": "markdown",
   "id": "dbfe9d58",
   "metadata": {},
   "source": [
    "### III. Feature Engineering"
   ]
  },
  {
   "cell_type": "code",
   "execution_count": 35,
   "id": "4c3ac2bb",
   "metadata": {},
   "outputs": [],
   "source": [
    "from datetime import datetime\n",
    "df['DepartureHour'] = pd.to_datetime(df['Departure_Time']).dt.hour\n",
    "df['DepartureMinute'] = pd.to_datetime(df['Departure_Time']).dt.minute"
   ]
  },
  {
   "cell_type": "code",
   "execution_count": 36,
   "id": "d04aca9e",
   "metadata": {},
   "outputs": [],
   "source": [
    "from datetime import datetime\n",
    "df['ArrivalHour'] = pd.to_datetime(df['Arrival_Time']).dt.hour\n",
    "df['ArrivalMinute'] = pd.to_datetime(df['Arrival_Time']).dt.minute"
   ]
  },
  {
   "cell_type": "code",
   "execution_count": 37,
   "id": "d4b146d6",
   "metadata": {},
   "outputs": [],
   "source": [
    "df['Duration_hour'] = df['Duration'].astype(int)\n",
    "df['Duration_Minute'] = round((df['Duration'] - df['Duration'].astype(int))*60,0).astype(int)"
   ]
  },
  {
   "cell_type": "code",
   "execution_count": 38,
   "id": "a1d19d77",
   "metadata": {},
   "outputs": [
    {
     "name": "stdout",
     "output_type": "stream",
     "text": [
      "<class 'pandas.core.frame.DataFrame'>\n",
      "RangeIndex: 45000 entries, 0 to 44999\n",
      "Data columns (total 25 columns):\n",
      " #   Column              Non-Null Count  Dtype  \n",
      "---  ------              --------------  -----  \n",
      " 0   Flight_ID           45000 non-null  object \n",
      " 1   Airline             45000 non-null  int64  \n",
      " 2   Departure_City      45000 non-null  object \n",
      " 3   Arrival_City        45000 non-null  object \n",
      " 4   Distance            45000 non-null  float64\n",
      " 5   Departure_Time      45000 non-null  object \n",
      " 6   Arrival_Time        45000 non-null  object \n",
      " 7   Duration            45000 non-null  float64\n",
      " 8   Aircraft_Type       45000 non-null  int64  \n",
      " 9   Number_of_Stops     45000 non-null  int64  \n",
      " 10  Day_of_Week         45000 non-null  int64  \n",
      " 11  Month_of_Travel     45000 non-null  int64  \n",
      " 12  Holiday_Season      45000 non-null  int64  \n",
      " 13  Demand              45000 non-null  int64  \n",
      " 14  Weather_Conditions  45000 non-null  int64  \n",
      " 15  Passenger_Count     45000 non-null  int64  \n",
      " 16  Promotion_Type      45000 non-null  int64  \n",
      " 17  Fuel_Price          45000 non-null  float64\n",
      " 18  Flight_Price        45000 non-null  float64\n",
      " 19  DepartureHour       45000 non-null  int64  \n",
      " 20  DepartureMinute     45000 non-null  int64  \n",
      " 21  ArrivalHour         45000 non-null  int64  \n",
      " 22  ArrivalMinute       45000 non-null  int64  \n",
      " 23  Duration_hour       45000 non-null  int32  \n",
      " 24  Duration_Minute     45000 non-null  int32  \n",
      "dtypes: float64(4), int32(2), int64(14), object(5)\n",
      "memory usage: 8.2+ MB\n"
     ]
    }
   ],
   "source": [
    "df.info()"
   ]
  },
  {
   "cell_type": "code",
   "execution_count": 39,
   "id": "f00edde8",
   "metadata": {},
   "outputs": [
    {
     "data": {
      "text/html": [
       "<div>\n",
       "<style scoped>\n",
       "    .dataframe tbody tr th:only-of-type {\n",
       "        vertical-align: middle;\n",
       "    }\n",
       "\n",
       "    .dataframe tbody tr th {\n",
       "        vertical-align: top;\n",
       "    }\n",
       "\n",
       "    .dataframe thead th {\n",
       "        text-align: right;\n",
       "    }\n",
       "</style>\n",
       "<table border=\"1\" class=\"dataframe\">\n",
       "  <thead>\n",
       "    <tr style=\"text-align: right;\">\n",
       "      <th></th>\n",
       "      <th>Flight_ID</th>\n",
       "      <th>Airline</th>\n",
       "      <th>Departure_City</th>\n",
       "      <th>Arrival_City</th>\n",
       "      <th>Distance</th>\n",
       "      <th>Departure_Time</th>\n",
       "      <th>Arrival_Time</th>\n",
       "      <th>Duration</th>\n",
       "      <th>Aircraft_Type</th>\n",
       "      <th>Number_of_Stops</th>\n",
       "      <th>Day_of_Week</th>\n",
       "      <th>Month_of_Travel</th>\n",
       "      <th>Holiday_Season</th>\n",
       "      <th>Demand</th>\n",
       "      <th>Weather_Conditions</th>\n",
       "      <th>Passenger_Count</th>\n",
       "      <th>Promotion_Type</th>\n",
       "      <th>Fuel_Price</th>\n",
       "      <th>Flight_Price</th>\n",
       "      <th>DepartureHour</th>\n",
       "      <th>DepartureMinute</th>\n",
       "      <th>ArrivalHour</th>\n",
       "      <th>ArrivalMinute</th>\n",
       "      <th>Duration_hour</th>\n",
       "      <th>Duration_Minute</th>\n",
       "    </tr>\n",
       "  </thead>\n",
       "  <tbody>\n",
       "    <tr>\n",
       "      <th>0</th>\n",
       "      <td>F1</td>\n",
       "      <td>1</td>\n",
       "      <td>Unknown</td>\n",
       "      <td>Greenshire</td>\n",
       "      <td>8286.0</td>\n",
       "      <td>8:23</td>\n",
       "      <td>20:19</td>\n",
       "      <td>11.94</td>\n",
       "      <td>0</td>\n",
       "      <td>0</td>\n",
       "      <td>3</td>\n",
       "      <td>11</td>\n",
       "      <td>1</td>\n",
       "      <td>0</td>\n",
       "      <td>0</td>\n",
       "      <td>240</td>\n",
       "      <td>0</td>\n",
       "      <td>0.91</td>\n",
       "      <td>643.93</td>\n",
       "      <td>8</td>\n",
       "      <td>23</td>\n",
       "      <td>20</td>\n",
       "      <td>19</td>\n",
       "      <td>11</td>\n",
       "      <td>56</td>\n",
       "    </tr>\n",
       "    <tr>\n",
       "      <th>1</th>\n",
       "      <td>F2</td>\n",
       "      <td>2</td>\n",
       "      <td>Leonardland</td>\n",
       "      <td>New Stephen</td>\n",
       "      <td>2942.0</td>\n",
       "      <td>20:28</td>\n",
       "      <td>1:45</td>\n",
       "      <td>5.29</td>\n",
       "      <td>1</td>\n",
       "      <td>0</td>\n",
       "      <td>3</td>\n",
       "      <td>2</td>\n",
       "      <td>4</td>\n",
       "      <td>0</td>\n",
       "      <td>0</td>\n",
       "      <td>107</td>\n",
       "      <td>2</td>\n",
       "      <td>1.08</td>\n",
       "      <td>423.13</td>\n",
       "      <td>20</td>\n",
       "      <td>28</td>\n",
       "      <td>1</td>\n",
       "      <td>45</td>\n",
       "      <td>5</td>\n",
       "      <td>17</td>\n",
       "    </tr>\n",
       "    <tr>\n",
       "      <th>2</th>\n",
       "      <td>F3</td>\n",
       "      <td>1</td>\n",
       "      <td>South Dylanville</td>\n",
       "      <td>Port Ambermouth</td>\n",
       "      <td>2468.0</td>\n",
       "      <td>11:30</td>\n",
       "      <td>15:54</td>\n",
       "      <td>4.41</td>\n",
       "      <td>0</td>\n",
       "      <td>1</td>\n",
       "      <td>0</td>\n",
       "      <td>8</td>\n",
       "      <td>1</td>\n",
       "      <td>2</td>\n",
       "      <td>1</td>\n",
       "      <td>131</td>\n",
       "      <td>0</td>\n",
       "      <td>0.52</td>\n",
       "      <td>442.17</td>\n",
       "      <td>11</td>\n",
       "      <td>30</td>\n",
       "      <td>15</td>\n",
       "      <td>54</td>\n",
       "      <td>4</td>\n",
       "      <td>25</td>\n",
       "    </tr>\n",
       "    <tr>\n",
       "      <th>3</th>\n",
       "      <td>F4</td>\n",
       "      <td>3</td>\n",
       "      <td>Blakefort</td>\n",
       "      <td>Crosbyberg</td>\n",
       "      <td>3145.0</td>\n",
       "      <td>20:24</td>\n",
       "      <td>1:21</td>\n",
       "      <td>4.96</td>\n",
       "      <td>0</td>\n",
       "      <td>0</td>\n",
       "      <td>0</td>\n",
       "      <td>1</td>\n",
       "      <td>2</td>\n",
       "      <td>0</td>\n",
       "      <td>1</td>\n",
       "      <td>170</td>\n",
       "      <td>1</td>\n",
       "      <td>0.71</td>\n",
       "      <td>394.42</td>\n",
       "      <td>20</td>\n",
       "      <td>24</td>\n",
       "      <td>1</td>\n",
       "      <td>21</td>\n",
       "      <td>4</td>\n",
       "      <td>58</td>\n",
       "    </tr>\n",
       "    <tr>\n",
       "      <th>4</th>\n",
       "      <td>F5</td>\n",
       "      <td>1</td>\n",
       "      <td>Michaelport</td>\n",
       "      <td>Onealborough</td>\n",
       "      <td>5558.0</td>\n",
       "      <td>21:59</td>\n",
       "      <td>6:04</td>\n",
       "      <td>8.09</td>\n",
       "      <td>2</td>\n",
       "      <td>1</td>\n",
       "      <td>4</td>\n",
       "      <td>0</td>\n",
       "      <td>0</td>\n",
       "      <td>0</td>\n",
       "      <td>2</td>\n",
       "      <td>181</td>\n",
       "      <td>2</td>\n",
       "      <td>1.09</td>\n",
       "      <td>804.35</td>\n",
       "      <td>21</td>\n",
       "      <td>59</td>\n",
       "      <td>6</td>\n",
       "      <td>4</td>\n",
       "      <td>8</td>\n",
       "      <td>5</td>\n",
       "    </tr>\n",
       "  </tbody>\n",
       "</table>\n",
       "</div>"
      ],
      "text/plain": [
       "  Flight_ID  Airline    Departure_City     Arrival_City  Distance  \\\n",
       "0        F1        1           Unknown       Greenshire    8286.0   \n",
       "1        F2        2       Leonardland      New Stephen    2942.0   \n",
       "2        F3        1  South Dylanville  Port Ambermouth    2468.0   \n",
       "3        F4        3         Blakefort       Crosbyberg    3145.0   \n",
       "4        F5        1       Michaelport     Onealborough    5558.0   \n",
       "\n",
       "  Departure_Time Arrival_Time  Duration  Aircraft_Type  Number_of_Stops  \\\n",
       "0           8:23        20:19     11.94              0                0   \n",
       "1          20:28         1:45      5.29              1                0   \n",
       "2          11:30        15:54      4.41              0                1   \n",
       "3          20:24         1:21      4.96              0                0   \n",
       "4          21:59         6:04      8.09              2                1   \n",
       "\n",
       "   Day_of_Week  Month_of_Travel  Holiday_Season  Demand  Weather_Conditions  \\\n",
       "0            3               11               1       0                   0   \n",
       "1            3                2               4       0                   0   \n",
       "2            0                8               1       2                   1   \n",
       "3            0                1               2       0                   1   \n",
       "4            4                0               0       0                   2   \n",
       "\n",
       "   Passenger_Count  Promotion_Type  Fuel_Price  Flight_Price  DepartureHour  \\\n",
       "0              240               0        0.91        643.93              8   \n",
       "1              107               2        1.08        423.13             20   \n",
       "2              131               0        0.52        442.17             11   \n",
       "3              170               1        0.71        394.42             20   \n",
       "4              181               2        1.09        804.35             21   \n",
       "\n",
       "   DepartureMinute  ArrivalHour  ArrivalMinute  Duration_hour  Duration_Minute  \n",
       "0               23           20             19             11               56  \n",
       "1               28            1             45              5               17  \n",
       "2               30           15             54              4               25  \n",
       "3               24            1             21              4               58  \n",
       "4               59            6              4              8                5  "
      ]
     },
     "execution_count": 39,
     "metadata": {},
     "output_type": "execute_result"
    }
   ],
   "source": [
    "df.head()"
   ]
  },
  {
   "cell_type": "code",
   "execution_count": 40,
   "id": "aa70a7e3",
   "metadata": {},
   "outputs": [],
   "source": [
    "df_final = df.drop(['Flight_ID','Departure_City','Arrival_City','Departure_Time','Arrival_Time'], axis=1)"
   ]
  },
  {
   "cell_type": "code",
   "execution_count": 41,
   "id": "fe18ee1f",
   "metadata": {},
   "outputs": [
    {
     "data": {
      "text/html": [
       "<div>\n",
       "<style scoped>\n",
       "    .dataframe tbody tr th:only-of-type {\n",
       "        vertical-align: middle;\n",
       "    }\n",
       "\n",
       "    .dataframe tbody tr th {\n",
       "        vertical-align: top;\n",
       "    }\n",
       "\n",
       "    .dataframe thead th {\n",
       "        text-align: right;\n",
       "    }\n",
       "</style>\n",
       "<table border=\"1\" class=\"dataframe\">\n",
       "  <thead>\n",
       "    <tr style=\"text-align: right;\">\n",
       "      <th></th>\n",
       "      <th>Airline</th>\n",
       "      <th>Distance</th>\n",
       "      <th>Duration</th>\n",
       "      <th>Aircraft_Type</th>\n",
       "      <th>Number_of_Stops</th>\n",
       "      <th>Day_of_Week</th>\n",
       "      <th>Month_of_Travel</th>\n",
       "      <th>Holiday_Season</th>\n",
       "      <th>Demand</th>\n",
       "      <th>Weather_Conditions</th>\n",
       "      <th>Passenger_Count</th>\n",
       "      <th>Promotion_Type</th>\n",
       "      <th>Fuel_Price</th>\n",
       "      <th>Flight_Price</th>\n",
       "      <th>DepartureHour</th>\n",
       "      <th>DepartureMinute</th>\n",
       "      <th>ArrivalHour</th>\n",
       "      <th>ArrivalMinute</th>\n",
       "      <th>Duration_hour</th>\n",
       "      <th>Duration_Minute</th>\n",
       "    </tr>\n",
       "  </thead>\n",
       "  <tbody>\n",
       "    <tr>\n",
       "      <th>0</th>\n",
       "      <td>1</td>\n",
       "      <td>8286.0</td>\n",
       "      <td>11.94</td>\n",
       "      <td>0</td>\n",
       "      <td>0</td>\n",
       "      <td>3</td>\n",
       "      <td>11</td>\n",
       "      <td>1</td>\n",
       "      <td>0</td>\n",
       "      <td>0</td>\n",
       "      <td>240</td>\n",
       "      <td>0</td>\n",
       "      <td>0.91</td>\n",
       "      <td>643.93</td>\n",
       "      <td>8</td>\n",
       "      <td>23</td>\n",
       "      <td>20</td>\n",
       "      <td>19</td>\n",
       "      <td>11</td>\n",
       "      <td>56</td>\n",
       "    </tr>\n",
       "    <tr>\n",
       "      <th>1</th>\n",
       "      <td>2</td>\n",
       "      <td>2942.0</td>\n",
       "      <td>5.29</td>\n",
       "      <td>1</td>\n",
       "      <td>0</td>\n",
       "      <td>3</td>\n",
       "      <td>2</td>\n",
       "      <td>4</td>\n",
       "      <td>0</td>\n",
       "      <td>0</td>\n",
       "      <td>107</td>\n",
       "      <td>2</td>\n",
       "      <td>1.08</td>\n",
       "      <td>423.13</td>\n",
       "      <td>20</td>\n",
       "      <td>28</td>\n",
       "      <td>1</td>\n",
       "      <td>45</td>\n",
       "      <td>5</td>\n",
       "      <td>17</td>\n",
       "    </tr>\n",
       "    <tr>\n",
       "      <th>2</th>\n",
       "      <td>1</td>\n",
       "      <td>2468.0</td>\n",
       "      <td>4.41</td>\n",
       "      <td>0</td>\n",
       "      <td>1</td>\n",
       "      <td>0</td>\n",
       "      <td>8</td>\n",
       "      <td>1</td>\n",
       "      <td>2</td>\n",
       "      <td>1</td>\n",
       "      <td>131</td>\n",
       "      <td>0</td>\n",
       "      <td>0.52</td>\n",
       "      <td>442.17</td>\n",
       "      <td>11</td>\n",
       "      <td>30</td>\n",
       "      <td>15</td>\n",
       "      <td>54</td>\n",
       "      <td>4</td>\n",
       "      <td>25</td>\n",
       "    </tr>\n",
       "    <tr>\n",
       "      <th>3</th>\n",
       "      <td>3</td>\n",
       "      <td>3145.0</td>\n",
       "      <td>4.96</td>\n",
       "      <td>0</td>\n",
       "      <td>0</td>\n",
       "      <td>0</td>\n",
       "      <td>1</td>\n",
       "      <td>2</td>\n",
       "      <td>0</td>\n",
       "      <td>1</td>\n",
       "      <td>170</td>\n",
       "      <td>1</td>\n",
       "      <td>0.71</td>\n",
       "      <td>394.42</td>\n",
       "      <td>20</td>\n",
       "      <td>24</td>\n",
       "      <td>1</td>\n",
       "      <td>21</td>\n",
       "      <td>4</td>\n",
       "      <td>58</td>\n",
       "    </tr>\n",
       "    <tr>\n",
       "      <th>4</th>\n",
       "      <td>1</td>\n",
       "      <td>5558.0</td>\n",
       "      <td>8.09</td>\n",
       "      <td>2</td>\n",
       "      <td>1</td>\n",
       "      <td>4</td>\n",
       "      <td>0</td>\n",
       "      <td>0</td>\n",
       "      <td>0</td>\n",
       "      <td>2</td>\n",
       "      <td>181</td>\n",
       "      <td>2</td>\n",
       "      <td>1.09</td>\n",
       "      <td>804.35</td>\n",
       "      <td>21</td>\n",
       "      <td>59</td>\n",
       "      <td>6</td>\n",
       "      <td>4</td>\n",
       "      <td>8</td>\n",
       "      <td>5</td>\n",
       "    </tr>\n",
       "  </tbody>\n",
       "</table>\n",
       "</div>"
      ],
      "text/plain": [
       "   Airline  Distance  Duration  Aircraft_Type  Number_of_Stops  Day_of_Week  \\\n",
       "0        1    8286.0     11.94              0                0            3   \n",
       "1        2    2942.0      5.29              1                0            3   \n",
       "2        1    2468.0      4.41              0                1            0   \n",
       "3        3    3145.0      4.96              0                0            0   \n",
       "4        1    5558.0      8.09              2                1            4   \n",
       "\n",
       "   Month_of_Travel  Holiday_Season  Demand  Weather_Conditions  \\\n",
       "0               11               1       0                   0   \n",
       "1                2               4       0                   0   \n",
       "2                8               1       2                   1   \n",
       "3                1               2       0                   1   \n",
       "4                0               0       0                   2   \n",
       "\n",
       "   Passenger_Count  Promotion_Type  Fuel_Price  Flight_Price  DepartureHour  \\\n",
       "0              240               0        0.91        643.93              8   \n",
       "1              107               2        1.08        423.13             20   \n",
       "2              131               0        0.52        442.17             11   \n",
       "3              170               1        0.71        394.42             20   \n",
       "4              181               2        1.09        804.35             21   \n",
       "\n",
       "   DepartureMinute  ArrivalHour  ArrivalMinute  Duration_hour  Duration_Minute  \n",
       "0               23           20             19             11               56  \n",
       "1               28            1             45              5               17  \n",
       "2               30           15             54              4               25  \n",
       "3               24            1             21              4               58  \n",
       "4               59            6              4              8                5  "
      ]
     },
     "execution_count": 41,
     "metadata": {},
     "output_type": "execute_result"
    }
   ],
   "source": [
    "df_final.head()"
   ]
  },
  {
   "cell_type": "code",
   "execution_count": 42,
   "id": "83b2d786",
   "metadata": {},
   "outputs": [
    {
     "name": "stdout",
     "output_type": "stream",
     "text": [
      "<class 'pandas.core.frame.DataFrame'>\n",
      "RangeIndex: 45000 entries, 0 to 44999\n",
      "Data columns (total 20 columns):\n",
      " #   Column              Non-Null Count  Dtype  \n",
      "---  ------              --------------  -----  \n",
      " 0   Airline             45000 non-null  int64  \n",
      " 1   Distance            45000 non-null  float64\n",
      " 2   Duration            45000 non-null  float64\n",
      " 3   Aircraft_Type       45000 non-null  int64  \n",
      " 4   Number_of_Stops     45000 non-null  int64  \n",
      " 5   Day_of_Week         45000 non-null  int64  \n",
      " 6   Month_of_Travel     45000 non-null  int64  \n",
      " 7   Holiday_Season      45000 non-null  int64  \n",
      " 8   Demand              45000 non-null  int64  \n",
      " 9   Weather_Conditions  45000 non-null  int64  \n",
      " 10  Passenger_Count     45000 non-null  int64  \n",
      " 11  Promotion_Type      45000 non-null  int64  \n",
      " 12  Fuel_Price          45000 non-null  float64\n",
      " 13  Flight_Price        45000 non-null  float64\n",
      " 14  DepartureHour       45000 non-null  int64  \n",
      " 15  DepartureMinute     45000 non-null  int64  \n",
      " 16  ArrivalHour         45000 non-null  int64  \n",
      " 17  ArrivalMinute       45000 non-null  int64  \n",
      " 18  Duration_hour       45000 non-null  int32  \n",
      " 19  Duration_Minute     45000 non-null  int32  \n",
      "dtypes: float64(4), int32(2), int64(14)\n",
      "memory usage: 6.5 MB\n"
     ]
    }
   ],
   "source": [
    "df_final.info()"
   ]
  },
  {
   "cell_type": "markdown",
   "id": "5f7aaad4",
   "metadata": {},
   "source": [
    "### IV. Feature Scaling"
   ]
  },
  {
   "cell_type": "code",
   "execution_count": null,
   "id": "f72ec19e",
   "metadata": {},
   "outputs": [],
   "source": []
  },
  {
   "cell_type": "code",
   "execution_count": null,
   "id": "c8bac4fb",
   "metadata": {},
   "outputs": [],
   "source": []
  },
  {
   "cell_type": "code",
   "execution_count": null,
   "id": "27b5636a",
   "metadata": {},
   "outputs": [],
   "source": []
  },
  {
   "cell_type": "markdown",
   "id": "ac065261",
   "metadata": {},
   "source": [
    "### V. Train and Vlidation Split"
   ]
  },
  {
   "cell_type": "code",
   "execution_count": 43,
   "id": "9ebdd5ee",
   "metadata": {},
   "outputs": [
    {
     "name": "stdout",
     "output_type": "stream",
     "text": [
      "Shape of Training DataSet- X_train (31500, 19) and X_test (13500, 19)\n",
      "Shape of Training DataSet- Y_train (31500,) and Y_test (13500,)\n"
     ]
    }
   ],
   "source": [
    "from sklearn.model_selection import train_test_split\n",
    "\n",
    "X = df_final.drop('Flight_Price',axis =1)\n",
    "Y = df['Flight_Price']\n",
    "\n",
    "X_train, X_test, Y_train, Y_test = train_test_split(X,Y, test_size=0.30, random_state=1234)\n",
    "print(f'Shape of Training DataSet- X_train {X_train.shape} and X_test {X_test.shape}')\n",
    "print(f'Shape of Training DataSet- Y_train {Y_train.shape} and Y_test {Y_test.shape}')"
   ]
  },
  {
   "cell_type": "markdown",
   "id": "f89f9aad",
   "metadata": {},
   "source": [
    "### VI. Linear Regression Model"
   ]
  },
  {
   "cell_type": "code",
   "execution_count": 44,
   "id": "dc415a02",
   "metadata": {},
   "outputs": [
    {
     "name": "stdout",
     "output_type": "stream",
     "text": [
      "R2 Score for Training Dataset is 0.9379343316689501\n",
      "MSE for Training Dataset is 31.803973606977202\n",
      "RMSE Score for Training Dataset is 39.8433162456167\n",
      "\n",
      "\n",
      "R2 Score for Test Dataset is 0.9380023023333354\n",
      "MSE for Test Dataset is 31.85644175978379\n",
      "RMSE Score for Test Dataset is 40.07450014247593\n"
     ]
    }
   ],
   "source": [
    "from sklearn.linear_model import LinearRegression\n",
    "from sklearn import metrics\n",
    "\n",
    "linear_regression = LinearRegression()\n",
    "linear_regression.fit(X_train, Y_train)\n",
    "\n",
    "y_predict_train = linear_regression.predict(X_train)\n",
    "\n",
    "print(f'R2 Score for Training Dataset is {metrics.r2_score(Y_train,y_predict_train)}')\n",
    "print(f'MSE for Training Dataset is {metrics.mean_absolute_error(Y_train, y_predict_train)}')\n",
    "print(f'RMSE Score for Training Dataset is {np.sqrt(metrics.mean_squared_error(Y_train, y_predict_train))}')\n",
    "\n",
    "y_predict_test = linear_regression.predict(X_test)\n",
    "\n",
    "print(f'\\n\\nR2 Score for Test Dataset is {metrics.r2_score(Y_test,y_predict_test)}')\n",
    "print(f'MSE for Test Dataset is {metrics.mean_absolute_error(Y_test, y_predict_test)}')\n",
    "print(f'RMSE Score for Test Dataset is {np.sqrt(metrics.mean_squared_error(Y_test, y_predict_test))}')"
   ]
  },
  {
   "cell_type": "code",
   "execution_count": 45,
   "id": "18017d69",
   "metadata": {},
   "outputs": [
    {
     "data": {
      "text/html": [
       "<div>\n",
       "<style scoped>\n",
       "    .dataframe tbody tr th:only-of-type {\n",
       "        vertical-align: middle;\n",
       "    }\n",
       "\n",
       "    .dataframe tbody tr th {\n",
       "        vertical-align: top;\n",
       "    }\n",
       "\n",
       "    .dataframe thead th {\n",
       "        text-align: right;\n",
       "    }\n",
       "</style>\n",
       "<table border=\"1\" class=\"dataframe\">\n",
       "  <thead>\n",
       "    <tr style=\"text-align: right;\">\n",
       "      <th></th>\n",
       "      <th>0</th>\n",
       "      <th>1</th>\n",
       "    </tr>\n",
       "  </thead>\n",
       "  <tbody>\n",
       "    <tr>\n",
       "      <th>0</th>\n",
       "      <td>-0.171692</td>\n",
       "      <td>Airline</td>\n",
       "    </tr>\n",
       "    <tr>\n",
       "      <th>1</th>\n",
       "      <td>0.026403</td>\n",
       "      <td>Distance</td>\n",
       "    </tr>\n",
       "    <tr>\n",
       "      <th>2</th>\n",
       "      <td>-15.982215</td>\n",
       "      <td>Duration</td>\n",
       "    </tr>\n",
       "    <tr>\n",
       "      <th>3</th>\n",
       "      <td>-0.099764</td>\n",
       "      <td>Aircraft_Type</td>\n",
       "    </tr>\n",
       "    <tr>\n",
       "      <th>4</th>\n",
       "      <td>45.979641</td>\n",
       "      <td>Number_of_Stops</td>\n",
       "    </tr>\n",
       "    <tr>\n",
       "      <th>5</th>\n",
       "      <td>-0.019272</td>\n",
       "      <td>Day_of_Week</td>\n",
       "    </tr>\n",
       "    <tr>\n",
       "      <th>6</th>\n",
       "      <td>-0.613261</td>\n",
       "      <td>Month_of_Travel</td>\n",
       "    </tr>\n",
       "    <tr>\n",
       "      <th>7</th>\n",
       "      <td>-0.056219</td>\n",
       "      <td>Holiday_Season</td>\n",
       "    </tr>\n",
       "    <tr>\n",
       "      <th>8</th>\n",
       "      <td>92.478766</td>\n",
       "      <td>Demand</td>\n",
       "    </tr>\n",
       "    <tr>\n",
       "      <th>9</th>\n",
       "      <td>-0.047956</td>\n",
       "      <td>Weather_Conditions</td>\n",
       "    </tr>\n",
       "    <tr>\n",
       "      <th>10</th>\n",
       "      <td>-0.001276</td>\n",
       "      <td>Passenger_Count</td>\n",
       "    </tr>\n",
       "    <tr>\n",
       "      <th>11</th>\n",
       "      <td>0.048144</td>\n",
       "      <td>Promotion_Type</td>\n",
       "    </tr>\n",
       "    <tr>\n",
       "      <th>12</th>\n",
       "      <td>278.583422</td>\n",
       "      <td>Fuel_Price</td>\n",
       "    </tr>\n",
       "    <tr>\n",
       "      <th>13</th>\n",
       "      <td>-0.045489</td>\n",
       "      <td>DepartureHour</td>\n",
       "    </tr>\n",
       "    <tr>\n",
       "      <th>14</th>\n",
       "      <td>0.007818</td>\n",
       "      <td>DepartureMinute</td>\n",
       "    </tr>\n",
       "    <tr>\n",
       "      <th>15</th>\n",
       "      <td>0.003684</td>\n",
       "      <td>ArrivalHour</td>\n",
       "    </tr>\n",
       "    <tr>\n",
       "      <th>16</th>\n",
       "      <td>-0.001201</td>\n",
       "      <td>ArrivalMinute</td>\n",
       "    </tr>\n",
       "    <tr>\n",
       "      <th>17</th>\n",
       "      <td>31.041871</td>\n",
       "      <td>Duration_hour</td>\n",
       "    </tr>\n",
       "    <tr>\n",
       "      <th>18</th>\n",
       "      <td>0.534248</td>\n",
       "      <td>Duration_Minute</td>\n",
       "    </tr>\n",
       "  </tbody>\n",
       "</table>\n",
       "</div>"
      ],
      "text/plain": [
       "             0                   1\n",
       "0    -0.171692             Airline\n",
       "1     0.026403            Distance\n",
       "2   -15.982215            Duration\n",
       "3    -0.099764       Aircraft_Type\n",
       "4    45.979641     Number_of_Stops\n",
       "5    -0.019272         Day_of_Week\n",
       "6    -0.613261     Month_of_Travel\n",
       "7    -0.056219      Holiday_Season\n",
       "8    92.478766              Demand\n",
       "9    -0.047956  Weather_Conditions\n",
       "10   -0.001276     Passenger_Count\n",
       "11    0.048144      Promotion_Type\n",
       "12  278.583422          Fuel_Price\n",
       "13   -0.045489       DepartureHour\n",
       "14    0.007818     DepartureMinute\n",
       "15    0.003684         ArrivalHour\n",
       "16   -0.001201       ArrivalMinute\n",
       "17   31.041871       Duration_hour\n",
       "18    0.534248     Duration_Minute"
      ]
     },
     "execution_count": 45,
     "metadata": {},
     "output_type": "execute_result"
    }
   ],
   "source": [
    "pd.DataFrame(zip(linear_regression.coef_.T, X_train.columns))"
   ]
  },
  {
   "cell_type": "markdown",
   "id": "0fc744ce",
   "metadata": {},
   "source": [
    "### VI. Ridge Regression Model"
   ]
  },
  {
   "cell_type": "code",
   "execution_count": 46,
   "id": "bbf5bdd3",
   "metadata": {},
   "outputs": [
    {
     "name": "stdout",
     "output_type": "stream",
     "text": [
      "R2 Score for Training Dataset is 0.9379339926538596\n",
      "MSE for Training Dataset is 31.802822464069916\n",
      "RMSE Score for Training Dataset is 39.843425061548174\n",
      "\n",
      "\n",
      "R2 Score for Test Dataset is 0.9380000203923905\n",
      "MSE for Test Dataset is 31.85719479428804\n",
      "RMSE Score for Test Dataset is 40.075237644066355\n"
     ]
    }
   ],
   "source": [
    "from sklearn.linear_model import Ridge\n",
    "\n",
    "ridge_regression = Ridge()\n",
    "ridge_regression.fit(X_train,Y_train)\n",
    "\n",
    "y_predict_ridge_train = ridge_regression.predict(X_train)\n",
    "print(f'R2 Score for Training Dataset is {metrics.r2_score(Y_train,y_predict_ridge_train)}')\n",
    "print(f'MSE for Training Dataset is {metrics.mean_absolute_error(Y_train, y_predict_ridge_train)}')\n",
    "print(f'RMSE Score for Training Dataset is {np.sqrt(metrics.mean_squared_error(Y_train, y_predict_ridge_train))}')\n",
    "\n",
    "y_predict_ridge_test = ridge_regression.predict(X_test)\n",
    "\n",
    "print(f'\\n\\nR2 Score for Test Dataset is {metrics.r2_score(Y_test,y_predict_ridge_test)}')\n",
    "print(f'MSE for Test Dataset is {metrics.mean_absolute_error(Y_test, y_predict_ridge_test)}')\n",
    "print(f'RMSE Score for Test Dataset is {np.sqrt(metrics.mean_squared_error(Y_test, y_predict_ridge_test))}')"
   ]
  },
  {
   "cell_type": "code",
   "execution_count": 47,
   "id": "e2ac695c",
   "metadata": {},
   "outputs": [
    {
     "data": {
      "text/html": [
       "<div>\n",
       "<style scoped>\n",
       "    .dataframe tbody tr th:only-of-type {\n",
       "        vertical-align: middle;\n",
       "    }\n",
       "\n",
       "    .dataframe tbody tr th {\n",
       "        vertical-align: top;\n",
       "    }\n",
       "\n",
       "    .dataframe thead th {\n",
       "        text-align: right;\n",
       "    }\n",
       "</style>\n",
       "<table border=\"1\" class=\"dataframe\">\n",
       "  <thead>\n",
       "    <tr style=\"text-align: right;\">\n",
       "      <th></th>\n",
       "      <th>0</th>\n",
       "      <th>1</th>\n",
       "    </tr>\n",
       "  </thead>\n",
       "  <tbody>\n",
       "    <tr>\n",
       "      <th>0</th>\n",
       "      <td>-0.172579</td>\n",
       "      <td>Airline</td>\n",
       "    </tr>\n",
       "    <tr>\n",
       "      <th>1</th>\n",
       "      <td>0.026402</td>\n",
       "      <td>Distance</td>\n",
       "    </tr>\n",
       "    <tr>\n",
       "      <th>2</th>\n",
       "      <td>1.462302</td>\n",
       "      <td>Duration</td>\n",
       "    </tr>\n",
       "    <tr>\n",
       "      <th>3</th>\n",
       "      <td>-0.099129</td>\n",
       "      <td>Aircraft_Type</td>\n",
       "    </tr>\n",
       "    <tr>\n",
       "      <th>4</th>\n",
       "      <td>45.976795</td>\n",
       "      <td>Number_of_Stops</td>\n",
       "    </tr>\n",
       "    <tr>\n",
       "      <th>5</th>\n",
       "      <td>-0.019571</td>\n",
       "      <td>Day_of_Week</td>\n",
       "    </tr>\n",
       "    <tr>\n",
       "      <th>6</th>\n",
       "      <td>-0.612931</td>\n",
       "      <td>Month_of_Travel</td>\n",
       "    </tr>\n",
       "    <tr>\n",
       "      <th>7</th>\n",
       "      <td>-0.056277</td>\n",
       "      <td>Holiday_Season</td>\n",
       "    </tr>\n",
       "    <tr>\n",
       "      <th>8</th>\n",
       "      <td>92.473915</td>\n",
       "      <td>Demand</td>\n",
       "    </tr>\n",
       "    <tr>\n",
       "      <th>9</th>\n",
       "      <td>-0.048546</td>\n",
       "      <td>Weather_Conditions</td>\n",
       "    </tr>\n",
       "    <tr>\n",
       "      <th>10</th>\n",
       "      <td>-0.001298</td>\n",
       "      <td>Passenger_Count</td>\n",
       "    </tr>\n",
       "    <tr>\n",
       "      <th>11</th>\n",
       "      <td>0.047750</td>\n",
       "      <td>Promotion_Type</td>\n",
       "    </tr>\n",
       "    <tr>\n",
       "      <th>12</th>\n",
       "      <td>278.365018</td>\n",
       "      <td>Fuel_Price</td>\n",
       "    </tr>\n",
       "    <tr>\n",
       "      <th>13</th>\n",
       "      <td>-0.045603</td>\n",
       "      <td>DepartureHour</td>\n",
       "    </tr>\n",
       "    <tr>\n",
       "      <th>14</th>\n",
       "      <td>0.007866</td>\n",
       "      <td>DepartureMinute</td>\n",
       "    </tr>\n",
       "    <tr>\n",
       "      <th>15</th>\n",
       "      <td>0.003553</td>\n",
       "      <td>ArrivalHour</td>\n",
       "    </tr>\n",
       "    <tr>\n",
       "      <th>16</th>\n",
       "      <td>-0.001214</td>\n",
       "      <td>ArrivalMinute</td>\n",
       "    </tr>\n",
       "    <tr>\n",
       "      <th>17</th>\n",
       "      <td>13.598862</td>\n",
       "      <td>Duration_hour</td>\n",
       "    </tr>\n",
       "    <tr>\n",
       "      <th>18</th>\n",
       "      <td>0.243512</td>\n",
       "      <td>Duration_Minute</td>\n",
       "    </tr>\n",
       "  </tbody>\n",
       "</table>\n",
       "</div>"
      ],
      "text/plain": [
       "             0                   1\n",
       "0    -0.172579             Airline\n",
       "1     0.026402            Distance\n",
       "2     1.462302            Duration\n",
       "3    -0.099129       Aircraft_Type\n",
       "4    45.976795     Number_of_Stops\n",
       "5    -0.019571         Day_of_Week\n",
       "6    -0.612931     Month_of_Travel\n",
       "7    -0.056277      Holiday_Season\n",
       "8    92.473915              Demand\n",
       "9    -0.048546  Weather_Conditions\n",
       "10   -0.001298     Passenger_Count\n",
       "11    0.047750      Promotion_Type\n",
       "12  278.365018          Fuel_Price\n",
       "13   -0.045603       DepartureHour\n",
       "14    0.007866     DepartureMinute\n",
       "15    0.003553         ArrivalHour\n",
       "16   -0.001214       ArrivalMinute\n",
       "17   13.598862       Duration_hour\n",
       "18    0.243512     Duration_Minute"
      ]
     },
     "execution_count": 47,
     "metadata": {},
     "output_type": "execute_result"
    }
   ],
   "source": [
    "pd.DataFrame(zip(ridge_regression.coef_.T, X_train.columns))"
   ]
  },
  {
   "cell_type": "markdown",
   "id": "047f55ed",
   "metadata": {},
   "source": [
    "### VII. Lasso Regression Model"
   ]
  },
  {
   "cell_type": "code",
   "execution_count": 48,
   "id": "cbb9588e",
   "metadata": {},
   "outputs": [
    {
     "name": "stdout",
     "output_type": "stream",
     "text": [
      "R2 Score for Training Dataset is 0.9367131949658144\n",
      "MSE for Training Dataset is 31.985124881721074\n",
      "RMSE Score for Training Dataset is 40.23336396736784\n",
      "\n",
      "\n",
      "R2 Score for Test Dataset is 0.9369911069466521\n",
      "MSE for Test Dataset is 32.03373536568798\n",
      "RMSE Score for Test Dataset is 40.39999003854566\n"
     ]
    }
   ],
   "source": [
    "from sklearn.linear_model import Lasso\n",
    "\n",
    "lasso_regression = Lasso()\n",
    "lasso_regression.fit(X_train,Y_train)\n",
    "\n",
    "y_predict_lasso_train = lasso_regression.predict(X_train)\n",
    "print(f'R2 Score for Training Dataset is {metrics.r2_score(Y_train,y_predict_lasso_train)}')\n",
    "print(f'MSE for Training Dataset is {metrics.mean_absolute_error(Y_train, y_predict_lasso_train)}')\n",
    "print(f'RMSE Score for Training Dataset is {np.sqrt(metrics.mean_squared_error(Y_train, y_predict_lasso_train))}')\n",
    "\n",
    "y_predict_lasso_test = lasso_regression.predict(X_test)\n",
    "\n",
    "print(f'\\n\\nR2 Score for Test Dataset is {metrics.r2_score(Y_test,y_predict_lasso_test)}')\n",
    "print(f'MSE for Test Dataset is {metrics.mean_absolute_error(Y_test, y_predict_lasso_test)}')\n",
    "print(f'RMSE Score for Test Dataset is {np.sqrt(metrics.mean_squared_error(Y_test, y_predict_lasso_test))}')"
   ]
  },
  {
   "cell_type": "markdown",
   "id": "882e78db",
   "metadata": {},
   "source": [
    "### VIII ExtraTree Regressor"
   ]
  },
  {
   "cell_type": "code",
   "execution_count": 49,
   "id": "1d46cac7",
   "metadata": {},
   "outputs": [
    {
     "name": "stdout",
     "output_type": "stream",
     "text": [
      "R2 Score for Training Dataset is 1.0\n",
      "MSE for Training Dataset is 6.98961114736333e-13\n",
      "RMSE Score for Training Dataset is 8.328904777103816e-13\n",
      "\n",
      "\n",
      "R2 Score for Test Dataset is 0.9616936735102206\n",
      "MSE for Test Dataset is 25.249926925925926\n",
      "RMSE Score for Test Dataset is 31.500364995284276\n"
     ]
    }
   ],
   "source": [
    "from sklearn.ensemble import ExtraTreesRegressor\n",
    "\n",
    "extratree_regression = ExtraTreesRegressor()\n",
    "extratree_regression.fit(X_train,Y_train)\n",
    "\n",
    "y_predict_extratree_train = extratree_regression.predict(X_train)\n",
    "print(f'R2 Score for Training Dataset is {metrics.r2_score(Y_train,y_predict_extratree_train)}')\n",
    "print(f'MSE for Training Dataset is {metrics.mean_absolute_error(Y_train, y_predict_extratree_train)}')\n",
    "print(f'RMSE Score for Training Dataset is {np.sqrt(metrics.mean_squared_error(Y_train, y_predict_extratree_train))}')\n",
    "\n",
    "y_predict_extratree_test = extratree_regression.predict(X_test)\n",
    "\n",
    "print(f'\\n\\nR2 Score for Test Dataset is {metrics.r2_score(Y_test,y_predict_extratree_test)}')\n",
    "print(f'MSE for Test Dataset is {metrics.mean_absolute_error(Y_test, y_predict_extratree_test)}')\n",
    "print(f'RMSE Score for Test Dataset is {np.sqrt(metrics.mean_squared_error(Y_test, y_predict_extratree_test))}')"
   ]
  },
  {
   "cell_type": "markdown",
   "id": "cef42bac",
   "metadata": {},
   "source": [
    "### IX. RandomForest Regressor"
   ]
  },
  {
   "cell_type": "code",
   "execution_count": 50,
   "id": "e992add7",
   "metadata": {},
   "outputs": [
    {
     "name": "stdout",
     "output_type": "stream",
     "text": [
      "R2 Score for Training Dataset is 0.995049649529665\n",
      "MSE for Training Dataset is 8.657666079365075\n",
      "RMSE Score for Training Dataset is 11.252466632654297\n",
      "\n",
      "\n",
      "R2 Score for Test Dataset is 0.9658478636570249\n",
      "MSE for Test Dataset is 23.225930222222225\n",
      "RMSE Score for Test Dataset is 29.7433081702768\n"
     ]
    }
   ],
   "source": [
    "from sklearn.ensemble import RandomForestRegressor\n",
    "\n",
    "randomforest_regression = RandomForestRegressor()\n",
    "randomforest_regression.fit(X_train,Y_train)\n",
    "\n",
    "y_predict_randomforest_train = randomforest_regression.predict(X_train)\n",
    "print(f'R2 Score for Training Dataset is {metrics.r2_score(Y_train,y_predict_randomforest_train)}')\n",
    "print(f'MSE for Training Dataset is {metrics.mean_absolute_error(Y_train, y_predict_randomforest_train)}')\n",
    "print(f'RMSE Score for Training Dataset is {np.sqrt(metrics.mean_squared_error(Y_train, y_predict_randomforest_train))}')\n",
    "\n",
    "y_predict_randomforest_test = randomforest_regression.predict(X_test)\n",
    "\n",
    "print(f'\\n\\nR2 Score for Test Dataset is {metrics.r2_score(Y_test,y_predict_randomforest_test)}')\n",
    "print(f'MSE for Test Dataset is {metrics.mean_absolute_error(Y_test, y_predict_randomforest_test)}')\n",
    "print(f'RMSE Score for Test Dataset is {np.sqrt(metrics.mean_squared_error(Y_test, y_predict_randomforest_test))}')"
   ]
  },
  {
   "cell_type": "code",
   "execution_count": 51,
   "id": "7cc41977",
   "metadata": {},
   "outputs": [
    {
     "name": "stdout",
     "output_type": "stream",
     "text": [
      "[LightGBM] [Warning] Auto-choosing col-wise multi-threading, the overhead of testing was 0.005767 seconds.\n",
      "You can set `force_col_wise=true` to remove the overhead.\n",
      "[LightGBM] [Info] Total Bins 1124\n",
      "[LightGBM] [Info] Number of data points in the train set: 31500, number of used features: 19\n",
      "[LightGBM] [Info] Start training from score 575.145365\n",
      "R2 Score for Training Dataset is 0.9921829763757507\n",
      "MSE for Training Dataset is 9.899315989448485\n",
      "RMSE Score for Training Dataset is 14.140034614792418\n",
      "\n",
      "\n",
      "R2 Score for Test Dataset is 0.9912961460887016\n",
      "MSE for Test Dataset is 10.582523980388348\n",
      "RMSE Score for Test Dataset is 15.015373155919942\n"
     ]
    }
   ],
   "source": [
    "from lightgbm import LGBMRegressor\n",
    "\n",
    "lgbm_regression = LGBMRegressor()\n",
    "lgbm_regression.fit(X_train,Y_train)\n",
    "\n",
    "y_predict_lgbm_train = lgbm_regression.predict(X_train)\n",
    "print(f'R2 Score for Training Dataset is {metrics.r2_score(Y_train,y_predict_lgbm_train)}')\n",
    "print(f'MSE for Training Dataset is {metrics.mean_absolute_error(Y_train, y_predict_lgbm_train)}')\n",
    "print(f'RMSE Score for Training Dataset is {np.sqrt(metrics.mean_squared_error(Y_train, y_predict_lgbm_train))}')\n",
    "\n",
    "y_predict_lgbm_test = lgbm_regression.predict(X_test)\n",
    "\n",
    "print(f'\\n\\nR2 Score for Test Dataset is {metrics.r2_score(Y_test,y_predict_lgbm_test)}')\n",
    "print(f'MSE for Test Dataset is {metrics.mean_absolute_error(Y_test, y_predict_lgbm_test)}')\n",
    "print(f'RMSE Score for Test Dataset is {np.sqrt(metrics.mean_squared_error(Y_test, y_predict_lgbm_test))}')\n"
   ]
  },
  {
   "cell_type": "markdown",
   "id": "b4463e35",
   "metadata": {},
   "source": [
    "### X. Voting Regressor"
   ]
  },
  {
   "cell_type": "code",
   "execution_count": 52,
   "id": "a8ef7508",
   "metadata": {},
   "outputs": [
    {
     "name": "stdout",
     "output_type": "stream",
     "text": [
      "[LightGBM] [Warning] Auto-choosing col-wise multi-threading, the overhead of testing was 0.003240 seconds.\n",
      "You can set `force_col_wise=true` to remove the overhead.\n",
      "[LightGBM] [Info] Total Bins 1124\n",
      "[LightGBM] [Info] Number of data points in the train set: 31500, number of used features: 19\n",
      "[LightGBM] [Info] Start training from score 575.145365\n",
      "R2 Score for Training Dataset is 0.9802858348178639\n",
      "MSE for Training Dataset is 17.731186068234507\n",
      "RMSE Score for Training Dataset is 22.45530488032456\n",
      "\n",
      "\n",
      "R2 Score for Test Dataset is 0.9646866195137027\n",
      "MSE for Test Dataset is 23.91126223743395\n",
      "RMSE Score for Test Dataset is 30.244748670987825\n"
     ]
    }
   ],
   "source": [
    "from sklearn.ensemble import VotingRegressor\n",
    "\n",
    "reg_estimator = [('lr',linear_regression),('rid',ridge_regression),('lasso',lasso_regression), ('extra', extratree_regression), \n",
    "                 ('rf', randomforest_regression), ('lgbm', lgbm_regression )]\n",
    "\n",
    "voting_regressor = VotingRegressor(estimators=reg_estimator)\n",
    "voting_regressor.fit(X_train, Y_train)\n",
    "\n",
    "y_predict_voting_train = voting_regressor.predict(X_train)\n",
    "\n",
    "print(f'R2 Score for Training Dataset is {metrics.r2_score(Y_train,y_predict_voting_train)}')\n",
    "print(f'MSE for Training Dataset is {metrics.mean_absolute_error(Y_train, y_predict_voting_train)}')\n",
    "print(f'RMSE Score for Training Dataset is {np.sqrt(metrics.mean_squared_error(Y_train, y_predict_voting_train))}')\n",
    "\n",
    "y_predict_voting_test = voting_regressor.predict(X_test)\n",
    "\n",
    "print(f'\\n\\nR2 Score for Test Dataset is {metrics.r2_score(Y_test,y_predict_voting_test)}')\n",
    "print(f'MSE for Test Dataset is {metrics.mean_absolute_error(Y_test, y_predict_voting_test)}')\n",
    "print(f'RMSE Score for Test Dataset is {np.sqrt(metrics.mean_squared_error(Y_test, y_predict_voting_test))}')"
   ]
  },
  {
   "cell_type": "code",
   "execution_count": null,
   "id": "c6021671",
   "metadata": {},
   "outputs": [],
   "source": []
  },
  {
   "cell_type": "markdown",
   "id": "574071d3",
   "metadata": {},
   "source": [
    "## Treating Test data"
   ]
  },
  {
   "cell_type": "code",
   "execution_count": 53,
   "id": "26c4712c",
   "metadata": {},
   "outputs": [],
   "source": [
    "df_test = pd.read_csv('test.csv')"
   ]
  },
  {
   "cell_type": "code",
   "execution_count": 54,
   "id": "bc8e80c6",
   "metadata": {},
   "outputs": [
    {
     "data": {
      "text/html": [
       "<div>\n",
       "<style scoped>\n",
       "    .dataframe tbody tr th:only-of-type {\n",
       "        vertical-align: middle;\n",
       "    }\n",
       "\n",
       "    .dataframe tbody tr th {\n",
       "        vertical-align: top;\n",
       "    }\n",
       "\n",
       "    .dataframe thead th {\n",
       "        text-align: right;\n",
       "    }\n",
       "</style>\n",
       "<table border=\"1\" class=\"dataframe\">\n",
       "  <thead>\n",
       "    <tr style=\"text-align: right;\">\n",
       "      <th></th>\n",
       "      <th>Flight_ID</th>\n",
       "      <th>Airline</th>\n",
       "      <th>Departure_City</th>\n",
       "      <th>Arrival_City</th>\n",
       "      <th>Distance</th>\n",
       "      <th>Departure_Time</th>\n",
       "      <th>Arrival_Time</th>\n",
       "      <th>Duration</th>\n",
       "      <th>Aircraft_Type</th>\n",
       "      <th>Number_of_Stops</th>\n",
       "      <th>Day_of_Week</th>\n",
       "      <th>Month_of_Travel</th>\n",
       "      <th>Holiday_Season</th>\n",
       "      <th>Demand</th>\n",
       "      <th>Weather_Conditions</th>\n",
       "      <th>Passenger_Count</th>\n",
       "      <th>Promotion_Type</th>\n",
       "      <th>Fuel_Price</th>\n",
       "    </tr>\n",
       "  </thead>\n",
       "  <tbody>\n",
       "    <tr>\n",
       "      <th>0</th>\n",
       "      <td>F45001</td>\n",
       "      <td>Airline B</td>\n",
       "      <td>Davidstad</td>\n",
       "      <td>Moorebury</td>\n",
       "      <td>3096.0</td>\n",
       "      <td>18:43</td>\n",
       "      <td>0:14</td>\n",
       "      <td>5.52</td>\n",
       "      <td>Boeing 737</td>\n",
       "      <td>1</td>\n",
       "      <td>Saturday</td>\n",
       "      <td>August</td>\n",
       "      <td>Summer</td>\n",
       "      <td>Medium</td>\n",
       "      <td>Clear</td>\n",
       "      <td>110</td>\n",
       "      <td>None</td>\n",
       "      <td>0.95</td>\n",
       "    </tr>\n",
       "    <tr>\n",
       "      <th>1</th>\n",
       "      <td>F45002</td>\n",
       "      <td>Airline A</td>\n",
       "      <td>Lake Tyler</td>\n",
       "      <td>Camachoberg</td>\n",
       "      <td>8760.0</td>\n",
       "      <td>1:16</td>\n",
       "      <td>13:04</td>\n",
       "      <td>11.80</td>\n",
       "      <td>Airbus A380</td>\n",
       "      <td>1</td>\n",
       "      <td>Thursday</td>\n",
       "      <td>April</td>\n",
       "      <td>None</td>\n",
       "      <td>High</td>\n",
       "      <td>Clear</td>\n",
       "      <td>295</td>\n",
       "      <td>Discount</td>\n",
       "      <td>1.05</td>\n",
       "    </tr>\n",
       "    <tr>\n",
       "      <th>2</th>\n",
       "      <td>F45003</td>\n",
       "      <td>Airline C</td>\n",
       "      <td>New Carol</td>\n",
       "      <td>West Ryanfurt</td>\n",
       "      <td>6365.0</td>\n",
       "      <td>12:17</td>\n",
       "      <td>21:52</td>\n",
       "      <td>9.59</td>\n",
       "      <td>Boeing 777</td>\n",
       "      <td>1</td>\n",
       "      <td>Sunday</td>\n",
       "      <td>January</td>\n",
       "      <td>None</td>\n",
       "      <td>Low</td>\n",
       "      <td>Rain</td>\n",
       "      <td>223</td>\n",
       "      <td>Discount</td>\n",
       "      <td>0.63</td>\n",
       "    </tr>\n",
       "    <tr>\n",
       "      <th>3</th>\n",
       "      <td>F45004</td>\n",
       "      <td>Airline A</td>\n",
       "      <td>Richardsonshire</td>\n",
       "      <td>Jordanburgh</td>\n",
       "      <td>7836.0</td>\n",
       "      <td>0:11</td>\n",
       "      <td>10:23</td>\n",
       "      <td>10.21</td>\n",
       "      <td>Airbus A380</td>\n",
       "      <td>0</td>\n",
       "      <td>Thursday</td>\n",
       "      <td>March</td>\n",
       "      <td>None</td>\n",
       "      <td>Low</td>\n",
       "      <td>Rain</td>\n",
       "      <td>223</td>\n",
       "      <td>None</td>\n",
       "      <td>0.88</td>\n",
       "    </tr>\n",
       "    <tr>\n",
       "      <th>4</th>\n",
       "      <td>F45005</td>\n",
       "      <td>Airline B</td>\n",
       "      <td>Tiffanytown</td>\n",
       "      <td>Morganstad</td>\n",
       "      <td>1129.0</td>\n",
       "      <td>3:22</td>\n",
       "      <td>5:13</td>\n",
       "      <td>1.86</td>\n",
       "      <td>Airbus A320</td>\n",
       "      <td>1</td>\n",
       "      <td>Saturday</td>\n",
       "      <td>August</td>\n",
       "      <td>Summer</td>\n",
       "      <td>High</td>\n",
       "      <td>Cloudy</td>\n",
       "      <td>145</td>\n",
       "      <td>Special Offer</td>\n",
       "      <td>1.11</td>\n",
       "    </tr>\n",
       "  </tbody>\n",
       "</table>\n",
       "</div>"
      ],
      "text/plain": [
       "  Flight_ID    Airline   Departure_City   Arrival_City  Distance  \\\n",
       "0    F45001  Airline B        Davidstad      Moorebury    3096.0   \n",
       "1    F45002  Airline A       Lake Tyler    Camachoberg    8760.0   \n",
       "2    F45003  Airline C        New Carol  West Ryanfurt    6365.0   \n",
       "3    F45004  Airline A  Richardsonshire    Jordanburgh    7836.0   \n",
       "4    F45005  Airline B      Tiffanytown     Morganstad    1129.0   \n",
       "\n",
       "  Departure_Time Arrival_Time  Duration Aircraft_Type  Number_of_Stops  \\\n",
       "0          18:43         0:14      5.52    Boeing 737                1   \n",
       "1           1:16        13:04     11.80   Airbus A380                1   \n",
       "2          12:17        21:52      9.59    Boeing 777                1   \n",
       "3           0:11        10:23     10.21   Airbus A380                0   \n",
       "4           3:22         5:13      1.86   Airbus A320                1   \n",
       "\n",
       "  Day_of_Week Month_of_Travel Holiday_Season  Demand Weather_Conditions  \\\n",
       "0    Saturday          August         Summer  Medium              Clear   \n",
       "1    Thursday           April           None    High              Clear   \n",
       "2      Sunday         January           None     Low               Rain   \n",
       "3    Thursday           March           None     Low               Rain   \n",
       "4    Saturday          August         Summer    High             Cloudy   \n",
       "\n",
       "   Passenger_Count Promotion_Type  Fuel_Price  \n",
       "0              110           None        0.95  \n",
       "1              295       Discount        1.05  \n",
       "2              223       Discount        0.63  \n",
       "3              223           None        0.88  \n",
       "4              145  Special Offer        1.11  "
      ]
     },
     "execution_count": 54,
     "metadata": {},
     "output_type": "execute_result"
    }
   ],
   "source": [
    "df_test.head()"
   ]
  },
  {
   "cell_type": "code",
   "execution_count": 55,
   "id": "75453df9",
   "metadata": {},
   "outputs": [
    {
     "data": {
      "text/html": [
       "<div>\n",
       "<style scoped>\n",
       "    .dataframe tbody tr th:only-of-type {\n",
       "        vertical-align: middle;\n",
       "    }\n",
       "\n",
       "    .dataframe tbody tr th {\n",
       "        vertical-align: top;\n",
       "    }\n",
       "\n",
       "    .dataframe thead th {\n",
       "        text-align: right;\n",
       "    }\n",
       "</style>\n",
       "<table border=\"1\" class=\"dataframe\">\n",
       "  <thead>\n",
       "    <tr style=\"text-align: right;\">\n",
       "      <th></th>\n",
       "      <th>Flight_ID</th>\n",
       "      <th>Airline</th>\n",
       "      <th>Departure_City</th>\n",
       "      <th>Arrival_City</th>\n",
       "      <th>Distance</th>\n",
       "      <th>Departure_Time</th>\n",
       "      <th>Arrival_Time</th>\n",
       "      <th>Duration</th>\n",
       "      <th>Aircraft_Type</th>\n",
       "      <th>Number_of_Stops</th>\n",
       "      <th>Day_of_Week</th>\n",
       "      <th>Month_of_Travel</th>\n",
       "      <th>Holiday_Season</th>\n",
       "      <th>Demand</th>\n",
       "      <th>Weather_Conditions</th>\n",
       "      <th>Passenger_Count</th>\n",
       "      <th>Promotion_Type</th>\n",
       "      <th>Fuel_Price</th>\n",
       "    </tr>\n",
       "  </thead>\n",
       "  <tbody>\n",
       "    <tr>\n",
       "      <th>4995</th>\n",
       "      <td>F49996</td>\n",
       "      <td>Airline B</td>\n",
       "      <td>Port Kristin</td>\n",
       "      <td>Jeffreyhaven</td>\n",
       "      <td>9389.0</td>\n",
       "      <td>22:41</td>\n",
       "      <td>11:02</td>\n",
       "      <td>12.35</td>\n",
       "      <td>Boeing 777</td>\n",
       "      <td>1</td>\n",
       "      <td>Tuesday</td>\n",
       "      <td>March</td>\n",
       "      <td>None</td>\n",
       "      <td>High</td>\n",
       "      <td>Cloudy</td>\n",
       "      <td>143</td>\n",
       "      <td>Special Offer</td>\n",
       "      <td>0.51</td>\n",
       "    </tr>\n",
       "    <tr>\n",
       "      <th>4996</th>\n",
       "      <td>F49997</td>\n",
       "      <td>NaN</td>\n",
       "      <td>NaN</td>\n",
       "      <td>Lake Christopherville</td>\n",
       "      <td>7718.0</td>\n",
       "      <td>11:20</td>\n",
       "      <td>22:53</td>\n",
       "      <td>11.55</td>\n",
       "      <td>Airbus A320</td>\n",
       "      <td>1</td>\n",
       "      <td>Friday</td>\n",
       "      <td>September</td>\n",
       "      <td>Spring</td>\n",
       "      <td>Low</td>\n",
       "      <td>Rain</td>\n",
       "      <td>55</td>\n",
       "      <td>Special Offer</td>\n",
       "      <td>0.50</td>\n",
       "    </tr>\n",
       "    <tr>\n",
       "      <th>4997</th>\n",
       "      <td>F49998</td>\n",
       "      <td>Airline C</td>\n",
       "      <td>Port Richard</td>\n",
       "      <td>Callahanmouth</td>\n",
       "      <td>2597.0</td>\n",
       "      <td>16:26</td>\n",
       "      <td>21:21</td>\n",
       "      <td>4.93</td>\n",
       "      <td>Airbus A380</td>\n",
       "      <td>1</td>\n",
       "      <td>Friday</td>\n",
       "      <td>September</td>\n",
       "      <td>Fall</td>\n",
       "      <td>Low</td>\n",
       "      <td>Snow</td>\n",
       "      <td>145</td>\n",
       "      <td>Discount</td>\n",
       "      <td>0.55</td>\n",
       "    </tr>\n",
       "    <tr>\n",
       "      <th>4998</th>\n",
       "      <td>F49999</td>\n",
       "      <td>Airline B</td>\n",
       "      <td>Perrymouth</td>\n",
       "      <td>South Zachary</td>\n",
       "      <td>4659.0</td>\n",
       "      <td>6:13</td>\n",
       "      <td>13:55</td>\n",
       "      <td>7.71</td>\n",
       "      <td>Airbus A380</td>\n",
       "      <td>1</td>\n",
       "      <td>Friday</td>\n",
       "      <td>August</td>\n",
       "      <td>Fall</td>\n",
       "      <td>High</td>\n",
       "      <td>Cloudy</td>\n",
       "      <td>163</td>\n",
       "      <td>Special Offer</td>\n",
       "      <td>0.79</td>\n",
       "    </tr>\n",
       "    <tr>\n",
       "      <th>4999</th>\n",
       "      <td>F50000</td>\n",
       "      <td>Airline C</td>\n",
       "      <td>Lake Scott</td>\n",
       "      <td>West Deborah</td>\n",
       "      <td>9124.0</td>\n",
       "      <td>19:07</td>\n",
       "      <td>7:22</td>\n",
       "      <td>12.26</td>\n",
       "      <td>Airbus A320</td>\n",
       "      <td>0</td>\n",
       "      <td>NaN</td>\n",
       "      <td>April</td>\n",
       "      <td>Winter</td>\n",
       "      <td>Low</td>\n",
       "      <td>Cloudy</td>\n",
       "      <td>75</td>\n",
       "      <td>None</td>\n",
       "      <td>0.51</td>\n",
       "    </tr>\n",
       "  </tbody>\n",
       "</table>\n",
       "</div>"
      ],
      "text/plain": [
       "     Flight_ID    Airline Departure_City           Arrival_City  Distance  \\\n",
       "4995    F49996  Airline B   Port Kristin           Jeffreyhaven    9389.0   \n",
       "4996    F49997        NaN            NaN  Lake Christopherville    7718.0   \n",
       "4997    F49998  Airline C   Port Richard          Callahanmouth    2597.0   \n",
       "4998    F49999  Airline B     Perrymouth          South Zachary    4659.0   \n",
       "4999    F50000  Airline C     Lake Scott           West Deborah    9124.0   \n",
       "\n",
       "     Departure_Time Arrival_Time  Duration Aircraft_Type  Number_of_Stops  \\\n",
       "4995          22:41        11:02     12.35    Boeing 777                1   \n",
       "4996          11:20        22:53     11.55   Airbus A320                1   \n",
       "4997          16:26        21:21      4.93   Airbus A380                1   \n",
       "4998           6:13        13:55      7.71   Airbus A380                1   \n",
       "4999          19:07         7:22     12.26   Airbus A320                0   \n",
       "\n",
       "     Day_of_Week Month_of_Travel Holiday_Season Demand Weather_Conditions  \\\n",
       "4995     Tuesday           March           None   High             Cloudy   \n",
       "4996      Friday       September         Spring    Low               Rain   \n",
       "4997      Friday       September           Fall    Low               Snow   \n",
       "4998      Friday          August           Fall   High             Cloudy   \n",
       "4999         NaN           April         Winter    Low             Cloudy   \n",
       "\n",
       "      Passenger_Count Promotion_Type  Fuel_Price  \n",
       "4995              143  Special Offer        0.51  \n",
       "4996               55  Special Offer        0.50  \n",
       "4997              145       Discount        0.55  \n",
       "4998              163  Special Offer        0.79  \n",
       "4999               75           None        0.51  "
      ]
     },
     "execution_count": 55,
     "metadata": {},
     "output_type": "execute_result"
    }
   ],
   "source": [
    "df_test.tail()"
   ]
  },
  {
   "cell_type": "code",
   "execution_count": 56,
   "id": "e16338d2",
   "metadata": {},
   "outputs": [
    {
     "name": "stdout",
     "output_type": "stream",
     "text": [
      "<class 'pandas.core.frame.DataFrame'>\n",
      "RangeIndex: 5000 entries, 0 to 4999\n",
      "Data columns (total 18 columns):\n",
      " #   Column              Non-Null Count  Dtype  \n",
      "---  ------              --------------  -----  \n",
      " 0   Flight_ID           5000 non-null   object \n",
      " 1   Airline             4573 non-null   object \n",
      " 2   Departure_City      4961 non-null   object \n",
      " 3   Arrival_City        4970 non-null   object \n",
      " 4   Distance            4991 non-null   float64\n",
      " 5   Departure_Time      5000 non-null   object \n",
      " 6   Arrival_Time        5000 non-null   object \n",
      " 7   Duration            5000 non-null   float64\n",
      " 8   Aircraft_Type       4992 non-null   object \n",
      " 9   Number_of_Stops     5000 non-null   int64  \n",
      " 10  Day_of_Week         4975 non-null   object \n",
      " 11  Month_of_Travel     4966 non-null   object \n",
      " 12  Holiday_Season      5000 non-null   object \n",
      " 13  Demand              4966 non-null   object \n",
      " 14  Weather_Conditions  4951 non-null   object \n",
      " 15  Passenger_Count     5000 non-null   int64  \n",
      " 16  Promotion_Type      4951 non-null   object \n",
      " 17  Fuel_Price          4990 non-null   float64\n",
      "dtypes: float64(3), int64(2), object(13)\n",
      "memory usage: 703.2+ KB\n"
     ]
    }
   ],
   "source": [
    "df_test.info()"
   ]
  },
  {
   "cell_type": "markdown",
   "id": "0e66de19",
   "metadata": {},
   "source": [
    "### I. Exploratory Detail Analysis"
   ]
  },
  {
   "cell_type": "code",
   "execution_count": 57,
   "id": "ab28cc89",
   "metadata": {},
   "outputs": [
    {
     "data": {
      "text/plain": [
       "Flight_ID               0\n",
       "Airline               427\n",
       "Departure_City         39\n",
       "Arrival_City           30\n",
       "Distance                9\n",
       "Departure_Time          0\n",
       "Arrival_Time            0\n",
       "Duration                0\n",
       "Aircraft_Type           8\n",
       "Number_of_Stops         0\n",
       "Day_of_Week            25\n",
       "Month_of_Travel        34\n",
       "Holiday_Season          0\n",
       "Demand                 34\n",
       "Weather_Conditions     49\n",
       "Passenger_Count         0\n",
       "Promotion_Type         49\n",
       "Fuel_Price             10\n",
       "dtype: int64"
      ]
     },
     "execution_count": 57,
     "metadata": {},
     "output_type": "execute_result"
    }
   ],
   "source": [
    "df_test.isnull().sum()"
   ]
  },
  {
   "cell_type": "code",
   "execution_count": 58,
   "id": "85e5e01a",
   "metadata": {},
   "outputs": [
    {
     "data": {
      "text/plain": [
       "Flight_ID             0.00\n",
       "Airline               8.54\n",
       "Departure_City        0.78\n",
       "Arrival_City          0.60\n",
       "Distance              0.18\n",
       "Departure_Time        0.00\n",
       "Arrival_Time          0.00\n",
       "Duration              0.00\n",
       "Aircraft_Type         0.16\n",
       "Number_of_Stops       0.00\n",
       "Day_of_Week           0.50\n",
       "Month_of_Travel       0.68\n",
       "Holiday_Season        0.00\n",
       "Demand                0.68\n",
       "Weather_Conditions    0.98\n",
       "Passenger_Count       0.00\n",
       "Promotion_Type        0.98\n",
       "Fuel_Price            0.20\n",
       "dtype: float64"
      ]
     },
     "execution_count": 58,
     "metadata": {},
     "output_type": "execute_result"
    }
   ],
   "source": [
    "(df_test.isnull().sum()/df_test.shape[0]) * 100"
   ]
  },
  {
   "cell_type": "code",
   "execution_count": 59,
   "id": "d017d44f",
   "metadata": {},
   "outputs": [
    {
     "data": {
      "text/html": [
       "<div>\n",
       "<style scoped>\n",
       "    .dataframe tbody tr th:only-of-type {\n",
       "        vertical-align: middle;\n",
       "    }\n",
       "\n",
       "    .dataframe tbody tr th {\n",
       "        vertical-align: top;\n",
       "    }\n",
       "\n",
       "    .dataframe thead th {\n",
       "        text-align: right;\n",
       "    }\n",
       "</style>\n",
       "<table border=\"1\" class=\"dataframe\">\n",
       "  <thead>\n",
       "    <tr style=\"text-align: right;\">\n",
       "      <th></th>\n",
       "      <th>Distance</th>\n",
       "      <th>Duration</th>\n",
       "      <th>Number_of_Stops</th>\n",
       "      <th>Passenger_Count</th>\n",
       "      <th>Fuel_Price</th>\n",
       "    </tr>\n",
       "  </thead>\n",
       "  <tbody>\n",
       "    <tr>\n",
       "      <th>count</th>\n",
       "      <td>4991.000000</td>\n",
       "      <td>5000.000000</td>\n",
       "      <td>5000.000000</td>\n",
       "      <td>5000.000000</td>\n",
       "      <td>4990.000000</td>\n",
       "    </tr>\n",
       "    <tr>\n",
       "      <th>mean</th>\n",
       "      <td>5460.673212</td>\n",
       "      <td>7.830462</td>\n",
       "      <td>0.667600</td>\n",
       "      <td>174.941200</td>\n",
       "      <td>0.851327</td>\n",
       "    </tr>\n",
       "    <tr>\n",
       "      <th>std</th>\n",
       "      <td>2615.795947</td>\n",
       "      <td>3.319984</td>\n",
       "      <td>0.740554</td>\n",
       "      <td>72.901245</td>\n",
       "      <td>0.203235</td>\n",
       "    </tr>\n",
       "    <tr>\n",
       "      <th>min</th>\n",
       "      <td>1000.000000</td>\n",
       "      <td>1.280000</td>\n",
       "      <td>0.000000</td>\n",
       "      <td>50.000000</td>\n",
       "      <td>0.500000</td>\n",
       "    </tr>\n",
       "    <tr>\n",
       "      <th>25%</th>\n",
       "      <td>3204.500000</td>\n",
       "      <td>4.970000</td>\n",
       "      <td>0.000000</td>\n",
       "      <td>111.000000</td>\n",
       "      <td>0.680000</td>\n",
       "    </tr>\n",
       "    <tr>\n",
       "      <th>50%</th>\n",
       "      <td>5487.000000</td>\n",
       "      <td>7.820000</td>\n",
       "      <td>1.000000</td>\n",
       "      <td>177.000000</td>\n",
       "      <td>0.850000</td>\n",
       "    </tr>\n",
       "    <tr>\n",
       "      <th>75%</th>\n",
       "      <td>7739.000000</td>\n",
       "      <td>10.650000</td>\n",
       "      <td>1.000000</td>\n",
       "      <td>238.000000</td>\n",
       "      <td>1.030000</td>\n",
       "    </tr>\n",
       "    <tr>\n",
       "      <th>max</th>\n",
       "      <td>10000.000000</td>\n",
       "      <td>14.480000</td>\n",
       "      <td>3.000000</td>\n",
       "      <td>300.000000</td>\n",
       "      <td>1.200000</td>\n",
       "    </tr>\n",
       "  </tbody>\n",
       "</table>\n",
       "</div>"
      ],
      "text/plain": [
       "           Distance     Duration  Number_of_Stops  Passenger_Count  \\\n",
       "count   4991.000000  5000.000000      5000.000000      5000.000000   \n",
       "mean    5460.673212     7.830462         0.667600       174.941200   \n",
       "std     2615.795947     3.319984         0.740554        72.901245   \n",
       "min     1000.000000     1.280000         0.000000        50.000000   \n",
       "25%     3204.500000     4.970000         0.000000       111.000000   \n",
       "50%     5487.000000     7.820000         1.000000       177.000000   \n",
       "75%     7739.000000    10.650000         1.000000       238.000000   \n",
       "max    10000.000000    14.480000         3.000000       300.000000   \n",
       "\n",
       "        Fuel_Price  \n",
       "count  4990.000000  \n",
       "mean      0.851327  \n",
       "std       0.203235  \n",
       "min       0.500000  \n",
       "25%       0.680000  \n",
       "50%       0.850000  \n",
       "75%       1.030000  \n",
       "max       1.200000  "
      ]
     },
     "execution_count": 59,
     "metadata": {},
     "output_type": "execute_result"
    }
   ],
   "source": [
    "df_test.describe()"
   ]
  },
  {
   "cell_type": "code",
   "execution_count": 60,
   "id": "80d8c4b2",
   "metadata": {},
   "outputs": [
    {
     "name": "stdout",
     "output_type": "stream",
     "text": [
      "['Airline B' 'Airline A' 'Airline C' nan]\n"
     ]
    },
    {
     "data": {
      "text/plain": [
       "Airline A    1551\n",
       "Airline C    1532\n",
       "Airline B    1490\n",
       "Name: Airline, dtype: int64"
      ]
     },
     "execution_count": 60,
     "metadata": {},
     "output_type": "execute_result"
    }
   ],
   "source": [
    "print(df_test['Airline'].unique())\n",
    "df_test['Airline'].value_counts()"
   ]
  },
  {
   "cell_type": "code",
   "execution_count": 61,
   "id": "26611c3d",
   "metadata": {},
   "outputs": [
    {
     "data": {
      "text/plain": [
       "array(['Davidstad', 'Lake Tyler', 'New Carol', ..., 'West Timothymouth',\n",
       "       'Port Richard', 'Perrymouth'], dtype=object)"
      ]
     },
     "execution_count": 61,
     "metadata": {},
     "output_type": "execute_result"
    }
   ],
   "source": [
    "df_test['Departure_City'].unique()"
   ]
  },
  {
   "cell_type": "code",
   "execution_count": 62,
   "id": "51703f49",
   "metadata": {},
   "outputs": [
    {
     "data": {
      "text/plain": [
       "array(['Moorebury', 'Camachoberg', 'West Ryanfurt', ..., 'Callahanmouth',\n",
       "       'South Zachary', 'West Deborah'], dtype=object)"
      ]
     },
     "execution_count": 62,
     "metadata": {},
     "output_type": "execute_result"
    }
   ],
   "source": [
    "df_test['Arrival_City'].unique()"
   ]
  },
  {
   "cell_type": "code",
   "execution_count": 63,
   "id": "07f5e930",
   "metadata": {},
   "outputs": [
    {
     "data": {
      "text/plain": [
       "array([3096., 8760., 6365., ..., 5880., 7718., 2597.])"
      ]
     },
     "execution_count": 63,
     "metadata": {},
     "output_type": "execute_result"
    }
   ],
   "source": [
    "df_test['Distance'].unique()"
   ]
  },
  {
   "cell_type": "code",
   "execution_count": 64,
   "id": "c64fd905",
   "metadata": {},
   "outputs": [
    {
     "data": {
      "text/plain": [
       "array(['Boeing 737', 'Airbus A380', 'Boeing 777', 'Airbus A320',\n",
       "       'Boeing 787', nan], dtype=object)"
      ]
     },
     "execution_count": 64,
     "metadata": {},
     "output_type": "execute_result"
    }
   ],
   "source": [
    "df_test['Aircraft_Type'].unique()"
   ]
  },
  {
   "cell_type": "code",
   "execution_count": 65,
   "id": "79dc32c1",
   "metadata": {},
   "outputs": [
    {
     "data": {
      "text/plain": [
       "array(['Saturday', 'Thursday', 'Sunday', nan, 'Monday', 'Wednesday',\n",
       "       'Friday', 'Tuesday'], dtype=object)"
      ]
     },
     "execution_count": 65,
     "metadata": {},
     "output_type": "execute_result"
    }
   ],
   "source": [
    "df_test['Day_of_Week'].unique()"
   ]
  },
  {
   "cell_type": "code",
   "execution_count": 66,
   "id": "80f19835",
   "metadata": {},
   "outputs": [
    {
     "data": {
      "text/plain": [
       "array(['August', 'April', 'January', 'March', 'February', 'October',\n",
       "       'May', 'June', 'July', 'December', 'September', 'November', nan],\n",
       "      dtype=object)"
      ]
     },
     "execution_count": 66,
     "metadata": {},
     "output_type": "execute_result"
    }
   ],
   "source": [
    "df_test['Month_of_Travel'].unique()"
   ]
  },
  {
   "cell_type": "code",
   "execution_count": 67,
   "id": "3d052800",
   "metadata": {},
   "outputs": [
    {
     "name": "stdout",
     "output_type": "stream",
     "text": [
      "Low       3270\n",
      "Medium    1006\n",
      "High       690\n",
      "Name: Demand, dtype: int64\n"
     ]
    },
    {
     "data": {
      "text/plain": [
       "array(['Medium', 'High', 'Low', nan], dtype=object)"
      ]
     },
     "execution_count": 67,
     "metadata": {},
     "output_type": "execute_result"
    }
   ],
   "source": [
    "print(df_test['Demand'].value_counts())\n",
    "df_test['Demand'].unique()"
   ]
  },
  {
   "cell_type": "code",
   "execution_count": 68,
   "id": "86d44900",
   "metadata": {},
   "outputs": [
    {
     "name": "stdout",
     "output_type": "stream",
     "text": [
      "Clear     1277\n",
      "Rain      1245\n",
      "Cloudy    1218\n",
      "Snow      1211\n",
      "Name: Weather_Conditions, dtype: int64\n"
     ]
    },
    {
     "data": {
      "text/plain": [
       "array(['Clear', 'Rain', 'Cloudy', 'Snow', nan], dtype=object)"
      ]
     },
     "execution_count": 68,
     "metadata": {},
     "output_type": "execute_result"
    }
   ],
   "source": [
    "print(df_test['Weather_Conditions'].value_counts())\n",
    "df_test['Weather_Conditions'].unique()"
   ]
  },
  {
   "cell_type": "code",
   "execution_count": 69,
   "id": "dac8f68b",
   "metadata": {},
   "outputs": [
    {
     "name": "stdout",
     "output_type": "stream",
     "text": [
      "Special Offer    1666\n",
      "Discount         1645\n",
      "None             1640\n",
      "Name: Promotion_Type, dtype: int64\n"
     ]
    },
    {
     "data": {
      "text/plain": [
       "array(['None', 'Discount', 'Special Offer', nan], dtype=object)"
      ]
     },
     "execution_count": 69,
     "metadata": {},
     "output_type": "execute_result"
    }
   ],
   "source": [
    "print(df_test['Promotion_Type'].value_counts())\n",
    "df_test['Promotion_Type'].unique()"
   ]
  },
  {
   "cell_type": "code",
   "execution_count": 70,
   "id": "d697ee50",
   "metadata": {},
   "outputs": [
    {
     "data": {
      "text/plain": [
       "array(['Summer', 'None', 'Spring', 'Fall', 'Winter'], dtype=object)"
      ]
     },
     "execution_count": 70,
     "metadata": {},
     "output_type": "execute_result"
    }
   ],
   "source": [
    "df_test['Holiday_Season'].unique()"
   ]
  },
  {
   "cell_type": "code",
   "execution_count": 71,
   "id": "c3d2d203",
   "metadata": {},
   "outputs": [
    {
     "name": "stdout",
     "output_type": "stream",
     "text": [
      "[0.95 1.05 0.63 0.88 1.11 0.8  0.99 0.53 0.65 1.17 0.85 1.19 0.82 0.86\n",
      " 0.98 0.75 0.57 0.7  0.9  1.07 1.13 0.58 0.66 0.72 0.62 1.   0.64 0.77\n",
      " 0.69 0.68 1.18 1.16 0.67 0.91 0.52 0.55 0.56 1.08 0.92 1.02 1.04 1.09\n",
      " 0.83 0.79 1.14 0.81 0.93 0.61 1.2  0.54 0.76 0.71 0.94 1.01 0.96 0.73\n",
      " 1.15 0.51 1.03 0.89 0.97 0.5  0.78  nan 1.06 1.12 0.6  1.1  0.59 0.74\n",
      " 0.87 0.84]\n"
     ]
    }
   ],
   "source": [
    "print(df_test['Fuel_Price'].unique())"
   ]
  },
  {
   "cell_type": "code",
   "execution_count": 72,
   "id": "cdbc396b",
   "metadata": {},
   "outputs": [
    {
     "data": {
      "text/plain": [
       "array([1, 0, 3], dtype=int64)"
      ]
     },
     "execution_count": 72,
     "metadata": {},
     "output_type": "execute_result"
    }
   ],
   "source": [
    "df_test['Number_of_Stops'].unique()"
   ]
  },
  {
   "cell_type": "markdown",
   "id": "8dd1195c",
   "metadata": {},
   "source": [
    "### II. Treating Missing Values"
   ]
  },
  {
   "cell_type": "code",
   "execution_count": 73,
   "id": "e4116a26",
   "metadata": {},
   "outputs": [
    {
     "data": {
      "text/plain": [
       "Flight_ID               0\n",
       "Airline               427\n",
       "Departure_City         39\n",
       "Arrival_City           30\n",
       "Distance                9\n",
       "Departure_Time          0\n",
       "Arrival_Time            0\n",
       "Duration                0\n",
       "Aircraft_Type           8\n",
       "Number_of_Stops         0\n",
       "Day_of_Week            25\n",
       "Month_of_Travel        34\n",
       "Holiday_Season          0\n",
       "Demand                 34\n",
       "Weather_Conditions     49\n",
       "Passenger_Count         0\n",
       "Promotion_Type         49\n",
       "Fuel_Price             10\n",
       "dtype: int64"
      ]
     },
     "execution_count": 73,
     "metadata": {},
     "output_type": "execute_result"
    }
   ],
   "source": [
    "df_test.isnull().sum()"
   ]
  },
  {
   "cell_type": "code",
   "execution_count": 74,
   "id": "58359584",
   "metadata": {},
   "outputs": [],
   "source": [
    "df_test['Airline'] = df_test['Airline'].fillna('Unknown')\n",
    "df_test['Aircraft_Type'] = df_test['Aircraft_Type'].fillna('Unknown')\n",
    "df_test['Day_of_Week'] = df_test['Day_of_Week'].fillna(df_test['Day_of_Week'].mode()[0])\n",
    "df_test['Month_of_Travel'] = df_test['Month_of_Travel'].fillna(df_test['Month_of_Travel'].mode()[0])\n",
    "df_test['Demand'] = df_test['Demand'].fillna(df_test['Demand'].mode()[0])\n",
    "df_test['Weather_Conditions'] = df_test['Weather_Conditions'].fillna(df_test['Weather_Conditions'].mode()[0])\n",
    "df_test['Promotion_Type'] = df_test['Promotion_Type'].fillna(df_test['Promotion_Type'].mode()[0])"
   ]
  },
  {
   "cell_type": "code",
   "execution_count": 75,
   "id": "a60554ff",
   "metadata": {},
   "outputs": [],
   "source": [
    "df_test['Departure_City'] = df_test['Departure_City'].fillna('Unknown')\n",
    "df_test['Arrival_City'] = df_test['Arrival_City'].fillna('Unknown')"
   ]
  },
  {
   "cell_type": "code",
   "execution_count": 76,
   "id": "02670ae7",
   "metadata": {},
   "outputs": [],
   "source": [
    "df_test['Distance'] = df_test['Distance'].fillna(round(df_test['Distance'].median(),1))\n",
    "df_test['Fuel_Price'] = df_test['Fuel_Price'].fillna(round(df_test['Fuel_Price'].median(),2))"
   ]
  },
  {
   "cell_type": "code",
   "execution_count": 77,
   "id": "e90c0e19",
   "metadata": {},
   "outputs": [
    {
     "data": {
      "text/plain": [
       "Flight_ID             0\n",
       "Airline               0\n",
       "Departure_City        0\n",
       "Arrival_City          0\n",
       "Distance              0\n",
       "Departure_Time        0\n",
       "Arrival_Time          0\n",
       "Duration              0\n",
       "Aircraft_Type         0\n",
       "Number_of_Stops       0\n",
       "Day_of_Week           0\n",
       "Month_of_Travel       0\n",
       "Holiday_Season        0\n",
       "Demand                0\n",
       "Weather_Conditions    0\n",
       "Passenger_Count       0\n",
       "Promotion_Type        0\n",
       "Fuel_Price            0\n",
       "dtype: int64"
      ]
     },
     "execution_count": 77,
     "metadata": {},
     "output_type": "execute_result"
    }
   ],
   "source": [
    "df_test.isnull().sum()"
   ]
  },
  {
   "cell_type": "markdown",
   "id": "2497b71c",
   "metadata": {},
   "source": [
    "### III. Encoding Features"
   ]
  },
  {
   "cell_type": "code",
   "execution_count": 78,
   "id": "9fac4bdf",
   "metadata": {},
   "outputs": [],
   "source": [
    "Airline_mapper = { 'Airline A': 0, 'Airline B': 1, 'Airline C': 2, 'Unknown': 3}\n",
    "\n",
    "AircraftType_mapper = { 'Boeing 787': 0, 'Airbus A320': 1, 'Boeing 737': 2, 'Boeing 777': 3, 'Airbus A380': 4, 'Unknown': 5}\n",
    "\n",
    "DayOfWeek_mapper = {'Wednesday':3, 'Sunday': 0, 'Thursday': 4, 'Tuesday': 2, 'Friday': 5, 'Monday': 1, 'Saturday': 6}\n",
    "\n",
    "MonthOfTravel_mapper = {'December': 11, 'March': 2, 'September': 8, 'February': 1, 'January': 0, 'May': 4, 'June': 5, \n",
    "                        'July': 6, 'August': 7, 'April': 3, 'October': 9, 'November': 10}\n",
    "\n",
    "Demand_mapper = {'Low': 0, 'High': 2, 'Medium': 1}\n",
    "\n",
    "Weather_mapper = {'Rain': 0, 'Cloudy': 1, 'Clear': 2, 'Snow': 3}\n",
    "\n",
    "PromotionType_mapper = {'Special Offer': 0, 'None': 2, 'Discount': 1}\n",
    "\n",
    "HolidaySeason_mapper = {'Summer': 1, 'Spring' :4, 'Fall': 2, 'None': 0, 'Winter': 3}"
   ]
  },
  {
   "cell_type": "code",
   "execution_count": 79,
   "id": "465e6b2f",
   "metadata": {},
   "outputs": [],
   "source": [
    "df_test['Promotion_Type'] = df_test['Promotion_Type'].replace(PromotionType_mapper)\n",
    "df_test['Weather_Conditions'] = df_test['Weather_Conditions'].replace(Weather_mapper)\n",
    "df_test['Demand'] = df_test['Demand'].replace(Demand_mapper)\n",
    "df_test['Month_of_Travel'] = df_test['Month_of_Travel'].replace(MonthOfTravel_mapper)\n",
    "df_test['Day_of_Week'] = df_test['Day_of_Week'].replace(DayOfWeek_mapper)\n",
    "df_test['Aircraft_Type'] = df_test['Aircraft_Type'].replace(AircraftType_mapper)\n",
    "df_test['Airline'] = df_test['Airline'].replace(Airline_mapper)\n",
    "df_test['Holiday_Season'] = df_test['Holiday_Season'].replace(HolidaySeason_mapper)"
   ]
  },
  {
   "cell_type": "markdown",
   "id": "654a5b15",
   "metadata": {},
   "source": [
    "### III. Feature Engineering"
   ]
  },
  {
   "cell_type": "code",
   "execution_count": 80,
   "id": "ae7c6964",
   "metadata": {},
   "outputs": [],
   "source": [
    "from datetime import datetime\n",
    "df_test['DepartureHour'] = pd.to_datetime(df_test['Departure_Time']).dt.hour\n",
    "df_test['DepartureMinute'] = pd.to_datetime(df_test['Departure_Time']).dt.minute"
   ]
  },
  {
   "cell_type": "code",
   "execution_count": 81,
   "id": "24fc3c65",
   "metadata": {},
   "outputs": [],
   "source": [
    "from datetime import datetime\n",
    "df_test['ArrivalHour'] = pd.to_datetime(df_test['Arrival_Time']).dt.hour\n",
    "df_test['ArrivalMinute'] = pd.to_datetime(df_test['Arrival_Time']).dt.minute"
   ]
  },
  {
   "cell_type": "code",
   "execution_count": 82,
   "id": "663c8acc",
   "metadata": {},
   "outputs": [],
   "source": [
    "df_test['Duration_hour'] = df_test['Duration'].astype(int)\n",
    "df_test['Duration_Minute'] = round((df_test['Duration'] - df_test['Duration'].astype(int))*60,0).astype(int)"
   ]
  },
  {
   "cell_type": "code",
   "execution_count": 83,
   "id": "dd5b344b",
   "metadata": {},
   "outputs": [
    {
     "name": "stdout",
     "output_type": "stream",
     "text": [
      "<class 'pandas.core.frame.DataFrame'>\n",
      "RangeIndex: 5000 entries, 0 to 4999\n",
      "Data columns (total 24 columns):\n",
      " #   Column              Non-Null Count  Dtype  \n",
      "---  ------              --------------  -----  \n",
      " 0   Flight_ID           5000 non-null   object \n",
      " 1   Airline             5000 non-null   int64  \n",
      " 2   Departure_City      5000 non-null   object \n",
      " 3   Arrival_City        5000 non-null   object \n",
      " 4   Distance            5000 non-null   float64\n",
      " 5   Departure_Time      5000 non-null   object \n",
      " 6   Arrival_Time        5000 non-null   object \n",
      " 7   Duration            5000 non-null   float64\n",
      " 8   Aircraft_Type       5000 non-null   int64  \n",
      " 9   Number_of_Stops     5000 non-null   int64  \n",
      " 10  Day_of_Week         5000 non-null   int64  \n",
      " 11  Month_of_Travel     5000 non-null   int64  \n",
      " 12  Holiday_Season      5000 non-null   int64  \n",
      " 13  Demand              5000 non-null   int64  \n",
      " 14  Weather_Conditions  5000 non-null   int64  \n",
      " 15  Passenger_Count     5000 non-null   int64  \n",
      " 16  Promotion_Type      5000 non-null   int64  \n",
      " 17  Fuel_Price          5000 non-null   float64\n",
      " 18  DepartureHour       5000 non-null   int64  \n",
      " 19  DepartureMinute     5000 non-null   int64  \n",
      " 20  ArrivalHour         5000 non-null   int64  \n",
      " 21  ArrivalMinute       5000 non-null   int64  \n",
      " 22  Duration_hour       5000 non-null   int32  \n",
      " 23  Duration_Minute     5000 non-null   int32  \n",
      "dtypes: float64(3), int32(2), int64(14), object(5)\n",
      "memory usage: 898.6+ KB\n"
     ]
    }
   ],
   "source": [
    "df_test.info()"
   ]
  },
  {
   "cell_type": "code",
   "execution_count": 84,
   "id": "b35013eb",
   "metadata": {},
   "outputs": [
    {
     "data": {
      "text/html": [
       "<div>\n",
       "<style scoped>\n",
       "    .dataframe tbody tr th:only-of-type {\n",
       "        vertical-align: middle;\n",
       "    }\n",
       "\n",
       "    .dataframe tbody tr th {\n",
       "        vertical-align: top;\n",
       "    }\n",
       "\n",
       "    .dataframe thead th {\n",
       "        text-align: right;\n",
       "    }\n",
       "</style>\n",
       "<table border=\"1\" class=\"dataframe\">\n",
       "  <thead>\n",
       "    <tr style=\"text-align: right;\">\n",
       "      <th></th>\n",
       "      <th>Flight_ID</th>\n",
       "      <th>Airline</th>\n",
       "      <th>Departure_City</th>\n",
       "      <th>Arrival_City</th>\n",
       "      <th>Distance</th>\n",
       "      <th>Departure_Time</th>\n",
       "      <th>Arrival_Time</th>\n",
       "      <th>Duration</th>\n",
       "      <th>Aircraft_Type</th>\n",
       "      <th>Number_of_Stops</th>\n",
       "      <th>Day_of_Week</th>\n",
       "      <th>Month_of_Travel</th>\n",
       "      <th>Holiday_Season</th>\n",
       "      <th>Demand</th>\n",
       "      <th>Weather_Conditions</th>\n",
       "      <th>Passenger_Count</th>\n",
       "      <th>Promotion_Type</th>\n",
       "      <th>Fuel_Price</th>\n",
       "      <th>DepartureHour</th>\n",
       "      <th>DepartureMinute</th>\n",
       "      <th>ArrivalHour</th>\n",
       "      <th>ArrivalMinute</th>\n",
       "      <th>Duration_hour</th>\n",
       "      <th>Duration_Minute</th>\n",
       "    </tr>\n",
       "  </thead>\n",
       "  <tbody>\n",
       "    <tr>\n",
       "      <th>0</th>\n",
       "      <td>F45001</td>\n",
       "      <td>1</td>\n",
       "      <td>Davidstad</td>\n",
       "      <td>Moorebury</td>\n",
       "      <td>3096.0</td>\n",
       "      <td>18:43</td>\n",
       "      <td>0:14</td>\n",
       "      <td>5.52</td>\n",
       "      <td>2</td>\n",
       "      <td>1</td>\n",
       "      <td>6</td>\n",
       "      <td>7</td>\n",
       "      <td>1</td>\n",
       "      <td>1</td>\n",
       "      <td>2</td>\n",
       "      <td>110</td>\n",
       "      <td>2</td>\n",
       "      <td>0.95</td>\n",
       "      <td>18</td>\n",
       "      <td>43</td>\n",
       "      <td>0</td>\n",
       "      <td>14</td>\n",
       "      <td>5</td>\n",
       "      <td>31</td>\n",
       "    </tr>\n",
       "    <tr>\n",
       "      <th>1</th>\n",
       "      <td>F45002</td>\n",
       "      <td>0</td>\n",
       "      <td>Lake Tyler</td>\n",
       "      <td>Camachoberg</td>\n",
       "      <td>8760.0</td>\n",
       "      <td>1:16</td>\n",
       "      <td>13:04</td>\n",
       "      <td>11.80</td>\n",
       "      <td>4</td>\n",
       "      <td>1</td>\n",
       "      <td>4</td>\n",
       "      <td>3</td>\n",
       "      <td>0</td>\n",
       "      <td>2</td>\n",
       "      <td>2</td>\n",
       "      <td>295</td>\n",
       "      <td>1</td>\n",
       "      <td>1.05</td>\n",
       "      <td>1</td>\n",
       "      <td>16</td>\n",
       "      <td>13</td>\n",
       "      <td>4</td>\n",
       "      <td>11</td>\n",
       "      <td>48</td>\n",
       "    </tr>\n",
       "    <tr>\n",
       "      <th>2</th>\n",
       "      <td>F45003</td>\n",
       "      <td>2</td>\n",
       "      <td>New Carol</td>\n",
       "      <td>West Ryanfurt</td>\n",
       "      <td>6365.0</td>\n",
       "      <td>12:17</td>\n",
       "      <td>21:52</td>\n",
       "      <td>9.59</td>\n",
       "      <td>3</td>\n",
       "      <td>1</td>\n",
       "      <td>0</td>\n",
       "      <td>0</td>\n",
       "      <td>0</td>\n",
       "      <td>0</td>\n",
       "      <td>0</td>\n",
       "      <td>223</td>\n",
       "      <td>1</td>\n",
       "      <td>0.63</td>\n",
       "      <td>12</td>\n",
       "      <td>17</td>\n",
       "      <td>21</td>\n",
       "      <td>52</td>\n",
       "      <td>9</td>\n",
       "      <td>35</td>\n",
       "    </tr>\n",
       "    <tr>\n",
       "      <th>3</th>\n",
       "      <td>F45004</td>\n",
       "      <td>0</td>\n",
       "      <td>Richardsonshire</td>\n",
       "      <td>Jordanburgh</td>\n",
       "      <td>7836.0</td>\n",
       "      <td>0:11</td>\n",
       "      <td>10:23</td>\n",
       "      <td>10.21</td>\n",
       "      <td>4</td>\n",
       "      <td>0</td>\n",
       "      <td>4</td>\n",
       "      <td>2</td>\n",
       "      <td>0</td>\n",
       "      <td>0</td>\n",
       "      <td>0</td>\n",
       "      <td>223</td>\n",
       "      <td>2</td>\n",
       "      <td>0.88</td>\n",
       "      <td>0</td>\n",
       "      <td>11</td>\n",
       "      <td>10</td>\n",
       "      <td>23</td>\n",
       "      <td>10</td>\n",
       "      <td>13</td>\n",
       "    </tr>\n",
       "    <tr>\n",
       "      <th>4</th>\n",
       "      <td>F45005</td>\n",
       "      <td>1</td>\n",
       "      <td>Tiffanytown</td>\n",
       "      <td>Morganstad</td>\n",
       "      <td>1129.0</td>\n",
       "      <td>3:22</td>\n",
       "      <td>5:13</td>\n",
       "      <td>1.86</td>\n",
       "      <td>1</td>\n",
       "      <td>1</td>\n",
       "      <td>6</td>\n",
       "      <td>7</td>\n",
       "      <td>1</td>\n",
       "      <td>2</td>\n",
       "      <td>1</td>\n",
       "      <td>145</td>\n",
       "      <td>0</td>\n",
       "      <td>1.11</td>\n",
       "      <td>3</td>\n",
       "      <td>22</td>\n",
       "      <td>5</td>\n",
       "      <td>13</td>\n",
       "      <td>1</td>\n",
       "      <td>52</td>\n",
       "    </tr>\n",
       "  </tbody>\n",
       "</table>\n",
       "</div>"
      ],
      "text/plain": [
       "  Flight_ID  Airline   Departure_City   Arrival_City  Distance Departure_Time  \\\n",
       "0    F45001        1        Davidstad      Moorebury    3096.0          18:43   \n",
       "1    F45002        0       Lake Tyler    Camachoberg    8760.0           1:16   \n",
       "2    F45003        2        New Carol  West Ryanfurt    6365.0          12:17   \n",
       "3    F45004        0  Richardsonshire    Jordanburgh    7836.0           0:11   \n",
       "4    F45005        1      Tiffanytown     Morganstad    1129.0           3:22   \n",
       "\n",
       "  Arrival_Time  Duration  Aircraft_Type  Number_of_Stops  Day_of_Week  \\\n",
       "0         0:14      5.52              2                1            6   \n",
       "1        13:04     11.80              4                1            4   \n",
       "2        21:52      9.59              3                1            0   \n",
       "3        10:23     10.21              4                0            4   \n",
       "4         5:13      1.86              1                1            6   \n",
       "\n",
       "   Month_of_Travel  Holiday_Season  Demand  Weather_Conditions  \\\n",
       "0                7               1       1                   2   \n",
       "1                3               0       2                   2   \n",
       "2                0               0       0                   0   \n",
       "3                2               0       0                   0   \n",
       "4                7               1       2                   1   \n",
       "\n",
       "   Passenger_Count  Promotion_Type  Fuel_Price  DepartureHour  \\\n",
       "0              110               2        0.95             18   \n",
       "1              295               1        1.05              1   \n",
       "2              223               1        0.63             12   \n",
       "3              223               2        0.88              0   \n",
       "4              145               0        1.11              3   \n",
       "\n",
       "   DepartureMinute  ArrivalHour  ArrivalMinute  Duration_hour  Duration_Minute  \n",
       "0               43            0             14              5               31  \n",
       "1               16           13              4             11               48  \n",
       "2               17           21             52              9               35  \n",
       "3               11           10             23             10               13  \n",
       "4               22            5             13              1               52  "
      ]
     },
     "execution_count": 84,
     "metadata": {},
     "output_type": "execute_result"
    }
   ],
   "source": [
    "df_test.head()"
   ]
  },
  {
   "cell_type": "code",
   "execution_count": 85,
   "id": "38cbc287",
   "metadata": {},
   "outputs": [],
   "source": [
    "df_test_final = df_test.drop(['Flight_ID','Departure_City','Arrival_City','Departure_Time','Arrival_Time'], axis=1)"
   ]
  },
  {
   "cell_type": "code",
   "execution_count": 86,
   "id": "088264a4",
   "metadata": {},
   "outputs": [
    {
     "data": {
      "text/html": [
       "<div>\n",
       "<style scoped>\n",
       "    .dataframe tbody tr th:only-of-type {\n",
       "        vertical-align: middle;\n",
       "    }\n",
       "\n",
       "    .dataframe tbody tr th {\n",
       "        vertical-align: top;\n",
       "    }\n",
       "\n",
       "    .dataframe thead th {\n",
       "        text-align: right;\n",
       "    }\n",
       "</style>\n",
       "<table border=\"1\" class=\"dataframe\">\n",
       "  <thead>\n",
       "    <tr style=\"text-align: right;\">\n",
       "      <th></th>\n",
       "      <th>Airline</th>\n",
       "      <th>Distance</th>\n",
       "      <th>Duration</th>\n",
       "      <th>Aircraft_Type</th>\n",
       "      <th>Number_of_Stops</th>\n",
       "      <th>Day_of_Week</th>\n",
       "      <th>Month_of_Travel</th>\n",
       "      <th>Holiday_Season</th>\n",
       "      <th>Demand</th>\n",
       "      <th>Weather_Conditions</th>\n",
       "      <th>Passenger_Count</th>\n",
       "      <th>Promotion_Type</th>\n",
       "      <th>Fuel_Price</th>\n",
       "      <th>DepartureHour</th>\n",
       "      <th>DepartureMinute</th>\n",
       "      <th>ArrivalHour</th>\n",
       "      <th>ArrivalMinute</th>\n",
       "      <th>Duration_hour</th>\n",
       "      <th>Duration_Minute</th>\n",
       "    </tr>\n",
       "  </thead>\n",
       "  <tbody>\n",
       "    <tr>\n",
       "      <th>0</th>\n",
       "      <td>1</td>\n",
       "      <td>3096.0</td>\n",
       "      <td>5.52</td>\n",
       "      <td>2</td>\n",
       "      <td>1</td>\n",
       "      <td>6</td>\n",
       "      <td>7</td>\n",
       "      <td>1</td>\n",
       "      <td>1</td>\n",
       "      <td>2</td>\n",
       "      <td>110</td>\n",
       "      <td>2</td>\n",
       "      <td>0.95</td>\n",
       "      <td>18</td>\n",
       "      <td>43</td>\n",
       "      <td>0</td>\n",
       "      <td>14</td>\n",
       "      <td>5</td>\n",
       "      <td>31</td>\n",
       "    </tr>\n",
       "    <tr>\n",
       "      <th>1</th>\n",
       "      <td>0</td>\n",
       "      <td>8760.0</td>\n",
       "      <td>11.80</td>\n",
       "      <td>4</td>\n",
       "      <td>1</td>\n",
       "      <td>4</td>\n",
       "      <td>3</td>\n",
       "      <td>0</td>\n",
       "      <td>2</td>\n",
       "      <td>2</td>\n",
       "      <td>295</td>\n",
       "      <td>1</td>\n",
       "      <td>1.05</td>\n",
       "      <td>1</td>\n",
       "      <td>16</td>\n",
       "      <td>13</td>\n",
       "      <td>4</td>\n",
       "      <td>11</td>\n",
       "      <td>48</td>\n",
       "    </tr>\n",
       "    <tr>\n",
       "      <th>2</th>\n",
       "      <td>2</td>\n",
       "      <td>6365.0</td>\n",
       "      <td>9.59</td>\n",
       "      <td>3</td>\n",
       "      <td>1</td>\n",
       "      <td>0</td>\n",
       "      <td>0</td>\n",
       "      <td>0</td>\n",
       "      <td>0</td>\n",
       "      <td>0</td>\n",
       "      <td>223</td>\n",
       "      <td>1</td>\n",
       "      <td>0.63</td>\n",
       "      <td>12</td>\n",
       "      <td>17</td>\n",
       "      <td>21</td>\n",
       "      <td>52</td>\n",
       "      <td>9</td>\n",
       "      <td>35</td>\n",
       "    </tr>\n",
       "    <tr>\n",
       "      <th>3</th>\n",
       "      <td>0</td>\n",
       "      <td>7836.0</td>\n",
       "      <td>10.21</td>\n",
       "      <td>4</td>\n",
       "      <td>0</td>\n",
       "      <td>4</td>\n",
       "      <td>2</td>\n",
       "      <td>0</td>\n",
       "      <td>0</td>\n",
       "      <td>0</td>\n",
       "      <td>223</td>\n",
       "      <td>2</td>\n",
       "      <td>0.88</td>\n",
       "      <td>0</td>\n",
       "      <td>11</td>\n",
       "      <td>10</td>\n",
       "      <td>23</td>\n",
       "      <td>10</td>\n",
       "      <td>13</td>\n",
       "    </tr>\n",
       "    <tr>\n",
       "      <th>4</th>\n",
       "      <td>1</td>\n",
       "      <td>1129.0</td>\n",
       "      <td>1.86</td>\n",
       "      <td>1</td>\n",
       "      <td>1</td>\n",
       "      <td>6</td>\n",
       "      <td>7</td>\n",
       "      <td>1</td>\n",
       "      <td>2</td>\n",
       "      <td>1</td>\n",
       "      <td>145</td>\n",
       "      <td>0</td>\n",
       "      <td>1.11</td>\n",
       "      <td>3</td>\n",
       "      <td>22</td>\n",
       "      <td>5</td>\n",
       "      <td>13</td>\n",
       "      <td>1</td>\n",
       "      <td>52</td>\n",
       "    </tr>\n",
       "  </tbody>\n",
       "</table>\n",
       "</div>"
      ],
      "text/plain": [
       "   Airline  Distance  Duration  Aircraft_Type  Number_of_Stops  Day_of_Week  \\\n",
       "0        1    3096.0      5.52              2                1            6   \n",
       "1        0    8760.0     11.80              4                1            4   \n",
       "2        2    6365.0      9.59              3                1            0   \n",
       "3        0    7836.0     10.21              4                0            4   \n",
       "4        1    1129.0      1.86              1                1            6   \n",
       "\n",
       "   Month_of_Travel  Holiday_Season  Demand  Weather_Conditions  \\\n",
       "0                7               1       1                   2   \n",
       "1                3               0       2                   2   \n",
       "2                0               0       0                   0   \n",
       "3                2               0       0                   0   \n",
       "4                7               1       2                   1   \n",
       "\n",
       "   Passenger_Count  Promotion_Type  Fuel_Price  DepartureHour  \\\n",
       "0              110               2        0.95             18   \n",
       "1              295               1        1.05              1   \n",
       "2              223               1        0.63             12   \n",
       "3              223               2        0.88              0   \n",
       "4              145               0        1.11              3   \n",
       "\n",
       "   DepartureMinute  ArrivalHour  ArrivalMinute  Duration_hour  Duration_Minute  \n",
       "0               43            0             14              5               31  \n",
       "1               16           13              4             11               48  \n",
       "2               17           21             52              9               35  \n",
       "3               11           10             23             10               13  \n",
       "4               22            5             13              1               52  "
      ]
     },
     "execution_count": 86,
     "metadata": {},
     "output_type": "execute_result"
    }
   ],
   "source": [
    "df_test_final.head()"
   ]
  },
  {
   "cell_type": "code",
   "execution_count": 87,
   "id": "5ed02a20",
   "metadata": {},
   "outputs": [
    {
     "name": "stdout",
     "output_type": "stream",
     "text": [
      "<class 'pandas.core.frame.DataFrame'>\n",
      "RangeIndex: 5000 entries, 0 to 4999\n",
      "Data columns (total 19 columns):\n",
      " #   Column              Non-Null Count  Dtype  \n",
      "---  ------              --------------  -----  \n",
      " 0   Airline             5000 non-null   int64  \n",
      " 1   Distance            5000 non-null   float64\n",
      " 2   Duration            5000 non-null   float64\n",
      " 3   Aircraft_Type       5000 non-null   int64  \n",
      " 4   Number_of_Stops     5000 non-null   int64  \n",
      " 5   Day_of_Week         5000 non-null   int64  \n",
      " 6   Month_of_Travel     5000 non-null   int64  \n",
      " 7   Holiday_Season      5000 non-null   int64  \n",
      " 8   Demand              5000 non-null   int64  \n",
      " 9   Weather_Conditions  5000 non-null   int64  \n",
      " 10  Passenger_Count     5000 non-null   int64  \n",
      " 11  Promotion_Type      5000 non-null   int64  \n",
      " 12  Fuel_Price          5000 non-null   float64\n",
      " 13  DepartureHour       5000 non-null   int64  \n",
      " 14  DepartureMinute     5000 non-null   int64  \n",
      " 15  ArrivalHour         5000 non-null   int64  \n",
      " 16  ArrivalMinute       5000 non-null   int64  \n",
      " 17  Duration_hour       5000 non-null   int32  \n",
      " 18  Duration_Minute     5000 non-null   int32  \n",
      "dtypes: float64(3), int32(2), int64(14)\n",
      "memory usage: 703.2 KB\n"
     ]
    }
   ],
   "source": [
    "df_test_final.info()"
   ]
  },
  {
   "cell_type": "code",
   "execution_count": 88,
   "id": "8b1ac0c2",
   "metadata": {},
   "outputs": [],
   "source": [
    "X_test_prediction_set = df_test_final\n",
    "y_predict_set = lgbm_regression.predict(X_test_prediction_set)"
   ]
  },
  {
   "cell_type": "code",
   "execution_count": 89,
   "id": "dec66832",
   "metadata": {},
   "outputs": [],
   "source": [
    "data = {\n",
    "    'Flight_ID':list(df_test['Flight_ID']),\n",
    "    'Flight_Price':list(y_predict_set)\n",
    "}\n",
    "\n",
    "df_prediction_01 = pd.DataFrame(data)\n",
    "df_prediction_01.to_csv('submission.csv', index=False)"
   ]
  },
  {
   "cell_type": "code",
   "execution_count": null,
   "id": "289a4ef4",
   "metadata": {},
   "outputs": [],
   "source": []
  }
 ],
 "metadata": {
  "kernelspec": {
   "display_name": "Python 3 (ipykernel)",
   "language": "python",
   "name": "python3"
  },
  "language_info": {
   "codemirror_mode": {
    "name": "ipython",
    "version": 3
   },
   "file_extension": ".py",
   "mimetype": "text/x-python",
   "name": "python",
   "nbconvert_exporter": "python",
   "pygments_lexer": "ipython3",
   "version": "3.10.9"
  }
 },
 "nbformat": 4,
 "nbformat_minor": 5
}
